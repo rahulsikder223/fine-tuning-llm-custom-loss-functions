{
  "cells": [
    {
      "cell_type": "code",
      "execution_count": null,
      "metadata": {
        "id": "Ny3Ckh888coX"
      },
      "outputs": [],
      "source": [
        "! pip install -q datasets"
      ]
    },
    {
      "cell_type": "markdown",
      "metadata": {
        "id": "sDkFdtln8cof"
      },
      "source": [
        "# Import Libraries"
      ]
    },
    {
      "cell_type": "code",
      "execution_count": 1,
      "metadata": {
        "id": "O789b8r38cog"
      },
      "outputs": [],
      "source": [
        "import torch\n",
        "import torch.nn as nn\n",
        "import torch.nn.functional as F\n",
        "from torch.utils.data import DataLoader\n",
        "import numpy as np\n",
        "import pandas as pd\n",
        "from datasets import load_dataset, concatenate_datasets\n",
        "from transformers import AutoModelForSequenceClassification, AutoTokenizer, AutoModelForCausalLM, DataCollatorWithPadding, AdamW\n",
        "from tqdm import tqdm\n",
        "from sklearn.linear_model import LogisticRegression\n",
        "from sklearn.metrics import accuracy_score\n",
        "from huggingface_hub import login\n",
        "from peft import LoraConfig, get_peft_model, TaskType"
      ]
    },
    {
      "cell_type": "markdown",
      "metadata": {
        "id": "9yopQ8Rs8coj"
      },
      "source": [
        "# Datasets"
      ]
    },
    {
      "cell_type": "code",
      "execution_count": 2,
      "metadata": {
        "id": "YFodqLWJ8cok"
      },
      "outputs": [],
      "source": [
        "def get_senteval_dataset(dataset_name):\n",
        "    dataset = load_dataset(f'rahulsikder223/SentEval-{dataset_name}')\n",
        "    concatenated_dataset = concatenate_datasets([dataset['train'], dataset['test']])\n",
        "    concatenated_dataset = concatenated_dataset.rename_column(\"label\", \"labels\")\n",
        "    return concatenated_dataset\n",
        "\n",
        "senteval_datasets = ['CR']#['CR', 'MPQA', 'MR', 'SUBJ']"
      ]
    },
    {
      "cell_type": "markdown",
      "metadata": {
        "id": "YGlQVXDP8com"
      },
      "source": [
        "# Model"
      ]
    },
    {
      "cell_type": "code",
      "execution_count": 3,
      "metadata": {
        "id": "IVbSkvbGNnh2"
      },
      "outputs": [],
      "source": [
        "login(token=\"<your token here>\")\n",
        "model_id = 'meta-llama/Llama-3.2-1B'"
      ]
    },
    {
      "cell_type": "markdown",
      "metadata": {
        "id": "PDVx0vu58coq"
      },
      "source": [
        "# Loss Functions"
      ]
    },
    {
      "cell_type": "markdown",
      "metadata": {
        "id": "GLYTWsiv8coq"
      },
      "source": [
        "## Classification Losses - Single sentence column and sentiment label"
      ]
    },
    {
      "cell_type": "markdown",
      "metadata": {
        "id": "fyH9-7_A8cos"
      },
      "source": [
        "### Cross-Entropy Loss"
      ]
    },
    {
      "cell_type": "code",
      "execution_count": 4,
      "metadata": {
        "id": "gyYvypHC8cot"
      },
      "outputs": [],
      "source": [
        "def cross_entropy_loss(logits, labels):\n",
        "    return nn.CrossEntropyLoss()(logits, labels)"
      ]
    },
    {
      "cell_type": "markdown",
      "metadata": {
        "id": "x_Ks8ugG8cot"
      },
      "source": [
        "### Label Smoothing Cross-Entropy Loss"
      ]
    },
    {
      "cell_type": "code",
      "execution_count": 5,
      "metadata": {
        "id": "PTglwbzF8cou"
      },
      "outputs": [],
      "source": [
        "def label_smoothing_cross_entropy_loss(logits, labels, smoothing=0.1):\n",
        "    confidence = 1.0 - smoothing\n",
        "    log_probs = F.log_softmax(logits, dim=-1)\n",
        "\n",
        "    # Initializing true distribution with smoothing value for all classes...\n",
        "    true_dist = torch.full_like(log_probs, smoothing / (log_probs.size(1) - 1))\n",
        "    # Setting the true label confidence in the correct class...\n",
        "    true_dist.scatter_(1, labels.unsqueeze(1), confidence)\n",
        "\n",
        "    loss = torch.mean(torch.sum(-true_dist * log_probs, dim=-1))\n",
        "    return loss"
      ]
    },
    {
      "cell_type": "markdown",
      "metadata": {
        "id": "8-Menku38cov"
      },
      "source": [
        "## Embedding Losses"
      ]
    },
    {
      "cell_type": "markdown",
      "metadata": {
        "id": "mC_u0wnq8cow"
      },
      "source": [
        "### Triplets - Anchor, Positive and Negative sentences (3 sentence columns) and label"
      ]
    },
    {
      "cell_type": "markdown",
      "metadata": {
        "id": "CTGEqlMg8cow"
      },
      "source": [
        "#### Triplet Loss"
      ]
    },
    {
      "cell_type": "code",
      "execution_count": 6,
      "metadata": {
        "id": "r8AOSZU78cox"
      },
      "outputs": [],
      "source": [
        "def generate_triplets(embeddings, labels):\n",
        "    anchors, positives, negatives = [], [], []\n",
        "    for i, anchor_label in enumerate(labels):\n",
        "        anchor = embeddings[i]\n",
        "\n",
        "        # Finding a positive example (same label as anchor)...\n",
        "        positive_indices = (labels == anchor_label).nonzero(as_tuple=True)[0].tolist()\n",
        "        # Ensuring positive is not the same as anchor...\n",
        "        positive_indices.remove(i)\n",
        "\n",
        "        # Ensuring there is at least one valid positive example...\n",
        "        if not positive_indices:\n",
        "            continue\n",
        "\n",
        "        # Selecting the first positive (no randomization for now)...\n",
        "        positive_idx = positive_indices[0]\n",
        "        positive = embeddings[positive_idx]\n",
        "\n",
        "        # Finding a negative example (different label)...\n",
        "        negative_indices = (labels != anchor_label).nonzero(as_tuple=True)[0].tolist()\n",
        "\n",
        "        # Ensuring there is at least one valid negative example...\n",
        "        if not negative_indices:\n",
        "            continue\n",
        "\n",
        "        # Select the first negative\n",
        "        negative_idx = negative_indices[0]\n",
        "        negative = embeddings[negative_idx]\n",
        "\n",
        "        # Adding the triplet...\n",
        "        anchors.append(anchor)\n",
        "        positives.append(positive)\n",
        "        negatives.append(negative)\n",
        "\n",
        "    # Ensuring non-empty lists before stacking...\n",
        "    if anchors and positives and negatives:\n",
        "        return torch.stack(anchors), torch.stack(positives), torch.stack(negatives)\n",
        "    else:\n",
        "        return None, None, None"
      ]
    },
    {
      "cell_type": "code",
      "execution_count": 7,
      "metadata": {
        "id": "XmDPN6P_8coy"
      },
      "outputs": [],
      "source": [
        "def generate_all_triplets(embeddings, labels):\n",
        "    anchors, positives, negatives = [], [], []\n",
        "    for i, anchor_label in enumerate(labels):\n",
        "        anchor = embeddings[i]\n",
        "\n",
        "        # Find all positive examples (same label as anchor)\n",
        "        positive_indices = (labels == anchor_label).nonzero(as_tuple=True)[0].tolist()\n",
        "        positive_indices.remove(i)  # Exclude the anchor itself\n",
        "\n",
        "        # Find all negative examples (different label from anchor)\n",
        "        negative_indices = (labels != anchor_label).nonzero(as_tuple=True)[0].tolist()\n",
        "\n",
        "        # Generate all valid triplets for this anchor\n",
        "        for pos_idx in positive_indices:\n",
        "            positive = embeddings[pos_idx]\n",
        "            for neg_idx in negative_indices:\n",
        "                negative = embeddings[neg_idx]\n",
        "\n",
        "                # Add the triplet\n",
        "                anchors.append(anchor)\n",
        "                positives.append(positive)\n",
        "                negatives.append(negative)\n",
        "\n",
        "    # Convert lists to tensors for batch processing\n",
        "    if anchors and positives and negatives:\n",
        "        return torch.stack(anchors), torch.stack(positives), torch.stack(negatives)\n",
        "    else:\n",
        "        return None, None, None"
      ]
    },
    {
      "cell_type": "code",
      "execution_count": 8,
      "metadata": {
        "id": "0by7rple8coy"
      },
      "outputs": [],
      "source": [
        "def triplet_loss(embeddings, labels, margin=1.0):\n",
        "    anchors, positives, negatives = generate_triplets(embeddings, labels)\n",
        "    if anchors is None or positives is None or negatives is None:\n",
        "        return 0.0\n",
        "\n",
        "    # Euclidean distance between anchor and positive, and anchor and negative...\n",
        "    pos_dist = F.pairwise_distance(anchors, positives)\n",
        "    neg_dist = F.pairwise_distance(anchors, negatives)\n",
        "    loss = torch.clamp(pos_dist - neg_dist + margin, min=0.0)\n",
        "    return loss.mean()"
      ]
    },
    {
      "cell_type": "code",
      "execution_count": 9,
      "metadata": {
        "id": "VTTCTawS8coy"
      },
      "outputs": [],
      "source": [
        "def triplet_all_loss(embeddings, labels, margin=1.0):\n",
        "    anchors, positives, negatives = generate_all_triplets(embeddings, labels)\n",
        "    if anchors is None or positives is None or negatives is None:\n",
        "        return 0.0\n",
        "\n",
        "    # Euclidean distance between anchor and positive, and anchor and negative...\n",
        "    pos_dist = F.pairwise_distance(anchors, positives)\n",
        "    neg_dist = F.pairwise_distance(anchors, negatives)\n",
        "    loss = torch.clamp(pos_dist - neg_dist + margin, min=0.0)\n",
        "    return loss.mean()"
      ]
    },
    {
      "cell_type": "markdown",
      "metadata": {
        "id": "-3Su9f0u8coz"
      },
      "source": [
        "#### Hard Triplet Loss"
      ]
    },
    {
      "cell_type": "code",
      "execution_count": 10,
      "metadata": {
        "id": "NplalhGI8co0"
      },
      "outputs": [],
      "source": [
        "def _pairwise_distances(embeddings, squared=False):\n",
        "    \"\"\"Compute the 2D matrix of distances between all the embeddings.\n",
        "\n",
        "    Args:\n",
        "        embeddings: tensor of shape (batch_size, embed_dim)\n",
        "        squared: Boolean. If true, output is the pairwise squared euclidean distance matrix.\n",
        "                 If false, output is the pairwise euclidean distance matrix.\n",
        "\n",
        "    Returns:\n",
        "        pairwise_distances: tensor of shape (batch_size, batch_size)\n",
        "    \"\"\"\n",
        "    dot_product = torch.matmul(embeddings, embeddings.t())\n",
        "\n",
        "    # Get squared L2 norm for each embedding. We can just take the diagonal of `dot_product`.\n",
        "    # This also provides more numerical stability (the diagonal of the result will be exactly 0).\n",
        "    # shape (batch_size,)\n",
        "    square_norm = torch.diag(dot_product)\n",
        "\n",
        "    # Compute the pairwise distance matrix as we have:\n",
        "    # ||a - b||^2 = ||a||^2  - 2 <a, b> + ||b||^2\n",
        "    # shape (batch_size, batch_size)\n",
        "    distances = square_norm.unsqueeze(0) - 2.0 * dot_product + square_norm.unsqueeze(1)\n",
        "\n",
        "    # Because of computation errors, some distances might be negative so we put everything >= 0.0\n",
        "    distances[distances < 0] = 0\n",
        "\n",
        "    if not squared:\n",
        "        # Because the gradient of sqrt is infinite when distances == 0.0 (ex: on the diagonal)\n",
        "        # we need to add a small epsilon where distances == 0.0\n",
        "        mask = distances.eq(0).float()\n",
        "        distances = distances + mask * 1e-16\n",
        "\n",
        "        distances = (1.0 -mask) * torch.sqrt(distances)\n",
        "\n",
        "    return distances\n",
        "\n",
        "def _get_anchor_positive_triplet_mask(labels):\n",
        "    \"\"\"Return a 2D mask where mask[a, p] is True iff a and p are distinct and have same label.\n",
        "    Args:\n",
        "        labels: tf.int32 `Tensor` with shape [batch_size]\n",
        "    Returns:\n",
        "        mask: tf.bool `Tensor` with shape [batch_size, batch_size]\n",
        "    \"\"\"\n",
        "    # Check that i and j are distinct\n",
        "    indices_equal = torch.eye(labels.size(0), device=labels.device).bool()\n",
        "    indices_not_equal = ~indices_equal\n",
        "\n",
        "    # Check if labels[i] == labels[j]\n",
        "    # Uses broadcasting where the 1st argument has shape (1, batch_size) and the 2nd (batch_size, 1)\n",
        "    labels_equal = labels.unsqueeze(0) == labels.unsqueeze(1)\n",
        "\n",
        "    return labels_equal & indices_not_equal\n",
        "\n",
        "def _get_anchor_negative_triplet_mask(labels):\n",
        "    \"\"\"Return a 2D mask where mask[a, n] is True iff a and n have distinct labels.\n",
        "    Args:\n",
        "        labels: tf.int32 `Tensor` with shape [batch_size]\n",
        "    Returns:\n",
        "        mask: tf.bool `Tensor` with shape [batch_size, batch_size]\n",
        "    \"\"\"\n",
        "    # Check if labels[i] != labels[k]\n",
        "    # Uses broadcasting where the 1st argument has shape (1, batch_size) and the 2nd (batch_size, 1)\n",
        "\n",
        "    return ~(labels.unsqueeze(0) == labels.unsqueeze(1))"
      ]
    },
    {
      "cell_type": "code",
      "execution_count": 11,
      "metadata": {
        "id": "KFy1UYBB8co2"
      },
      "outputs": [],
      "source": [
        "def hard_triplet_loss(embeddings, labels, margin=1.0):\n",
        "    # Calculating pairwise distance matrix - SBERT\n",
        "    pairwise_dist = _pairwise_distances(embeddings, squared=False)\n",
        "\n",
        "    # Mask to get the hardest positive distances - SBERT\n",
        "    mask_anchor_positive = _get_anchor_positive_triplet_mask(labels).float()\n",
        "    anchor_positive_dist = mask_anchor_positive * pairwise_dist\n",
        "    hardest_positive_dist, _ = anchor_positive_dist.max(dim=1, keepdim=True)\n",
        "\n",
        "    # Mask to get the hardest negative distances - SBERT\n",
        "    mask_anchor_negative = _get_anchor_negative_triplet_mask(labels).float()\n",
        "    max_anchor_negative_dist, _ = pairwise_dist.max(dim=1, keepdim=True)\n",
        "    anchor_negative_dist = pairwise_dist + max_anchor_negative_dist * (1.0 - mask_anchor_negative)\n",
        "    hardest_negative_dist, _ = anchor_negative_dist.min(dim=1, keepdim=True)\n",
        "\n",
        "    tl = hardest_positive_dist - hardest_negative_dist + margin\n",
        "    # Ensuring non-negative loss\n",
        "    tl = F.relu(tl)\n",
        "    triplet_loss = tl.mean()\n",
        "\n",
        "    return triplet_loss"
      ]
    },
    {
      "cell_type": "markdown",
      "metadata": {
        "id": "NqZFidof8co2"
      },
      "source": [
        "### Pairs - 2 sentence columns and label"
      ]
    },
    {
      "cell_type": "markdown",
      "metadata": {
        "id": "-Ufj-Zfq8co2"
      },
      "source": [
        "#### Pair Generation"
      ]
    },
    {
      "cell_type": "code",
      "execution_count": 12,
      "metadata": {
        "id": "79aeZf6L8co3"
      },
      "outputs": [],
      "source": [
        "def generate_pairs(embeddings, labels):\n",
        "    embedding1_list = []\n",
        "    embedding2_list = []\n",
        "    similarity_labels = []\n",
        "\n",
        "    for i in range(len(labels)):\n",
        "        for j in range(i + 1, len(labels)):\n",
        "            embedding1 = embeddings[i]\n",
        "            embedding2 = embeddings[j]\n",
        "\n",
        "            # If the labels are the same, labeling the pair as 1 (similar)...\n",
        "            if labels[i] == labels[j]:\n",
        "                similarity_labels.append(1)\n",
        "            else:\n",
        "                # If the labels are different, labeling the pair as 0 (dissimilar)...\n",
        "                similarity_labels.append(0)\n",
        "\n",
        "            embedding1_list.append(embedding1)\n",
        "            embedding2_list.append(embedding2)\n",
        "\n",
        "    embedding1_tensor = torch.stack(embedding1_list)\n",
        "    embedding2_tensor = torch.stack(embedding2_list)\n",
        "    labels_tensor = torch.tensor(similarity_labels).to(labels.device)\n",
        "\n",
        "    return embedding1_tensor, embedding2_tensor, labels_tensor"
      ]
    },
    {
      "cell_type": "markdown",
      "metadata": {
        "id": "R0Myf6jQ8co3"
      },
      "source": [
        "#### Cosine Similarity MSE"
      ]
    },
    {
      "cell_type": "code",
      "execution_count": 13,
      "metadata": {
        "id": "xYx8mLhN8co4"
      },
      "outputs": [],
      "source": [
        "def cosine_similarity_mse_loss(embeddings, labels):\n",
        "    embedding1, embedding2, labels = generate_pairs(embeddings, labels)\n",
        "\n",
        "    # Calculating the cosine similarity between the pairs of embeddings...\n",
        "    cos_sim = F.cosine_similarity(embedding1, embedding2)\n",
        "\n",
        "    # MSE loss...\n",
        "    squared_difference = (labels - cos_sim) ** 2\n",
        "    loss = squared_difference.mean()\n",
        "\n",
        "    return loss"
      ]
    },
    {
      "cell_type": "markdown",
      "metadata": {
        "id": "WvTDpMrt8co4"
      },
      "source": [
        "#### CoSENT Loss"
      ]
    },
    {
      "cell_type": "code",
      "execution_count": 14,
      "metadata": {
        "id": "Q__TfhJQ8co5"
      },
      "outputs": [],
      "source": [
        "def cosent_loss(embeddings, labels, tau=20.0):\n",
        "    embedding1, embedding2, labels = generate_pairs(embeddings, labels)\n",
        "\n",
        "    # Input preparation...\n",
        "    labels = (labels[:, None] < labels[None, :]).float()\n",
        "\n",
        "    # Normalization of Logits...\n",
        "    embedding1 = F.normalize(embedding1, p=2, dim=1)\n",
        "    embedding2 = F.normalize(embedding2, p=2, dim=1)\n",
        "\n",
        "    # Cosine Similarity Calculation...\n",
        "    # The dot product of these pairs gives the cosine similarity, scaled by a factor of tau to control the sharpness of similarity scores...\n",
        "    y_pred = torch.sum(embedding1 * embedding2, dim=1) * tau\n",
        "\n",
        "    # Pairwise cosine similarity difference calculation...\n",
        "    y_pred = y_pred[:, None] - y_pred[None, :]\n",
        "\n",
        "    y_pred = (y_pred - (1 - labels) * 1e12).view(-1)\n",
        "\n",
        "    zero = torch.Tensor([0]).to(y_pred.device)\n",
        "    y_pred = torch.concat((zero, y_pred), dim=0)\n",
        "    return torch.logsumexp(y_pred, dim=0)"
      ]
    },
    {
      "cell_type": "markdown",
      "metadata": {
        "id": "NDmd1cI-8co5"
      },
      "source": [
        "#### In-Batch Negatives Loss"
      ]
    },
    {
      "cell_type": "code",
      "execution_count": 15,
      "metadata": {
        "id": "4v-x9rYa8co5"
      },
      "outputs": [],
      "source": [
        "def categorical_crossentropy(y_true, y_pred):\n",
        "    return -(F.log_softmax(y_pred, dim=1) * y_true).sum(dim=1)\n",
        "\n",
        "def in_batch_negative_loss(embeddings, labels, tau=20.0, negative_weights=0.0):\n",
        "    device = labels.device\n",
        "    embedding1, embedding2, labels = generate_pairs(embeddings, labels)\n",
        "\n",
        "    y_pred = torch.empty((2 * embedding1.shape[0], embedding1.shape[1]), device=device)\n",
        "    y_pred[0::2] = embedding1\n",
        "    y_pred[1::2] = embedding2\n",
        "    y_true = labels.repeat_interleave(2).unsqueeze(1)\n",
        "\n",
        "    def make_target_matrix(y_true):\n",
        "        idxs = torch.arange(0, y_pred.shape[0]).int().to(device)\n",
        "        y_true = y_true.int()\n",
        "        idxs_1 = idxs[None, :]\n",
        "        idxs_2 = (idxs + 1 - idxs % 2 * 2)[:, None]\n",
        "\n",
        "        idxs_1 *= y_true.T\n",
        "        idxs_1 += (y_true.T == 0).int() * -2\n",
        "\n",
        "        idxs_2 *= y_true\n",
        "        idxs_2 += (y_true == 0).int() * -1\n",
        "\n",
        "        y_true = (idxs_1 == idxs_2).float()\n",
        "        return y_true\n",
        "\n",
        "    neg_mask = make_target_matrix(y_true == 0)\n",
        "\n",
        "    y_true = make_target_matrix(y_true)\n",
        "\n",
        "    y_pred = F.normalize(y_pred, dim=1, p=2)\n",
        "    similarities = y_pred @ y_pred.T\n",
        "    similarities = similarities - torch.eye(y_pred.shape[0]).to(device) * 1e12\n",
        "    similarities = similarities * tau\n",
        "\n",
        "    if negative_weights > 0:\n",
        "        similarities += neg_mask * negative_weights\n",
        "\n",
        "    return categorical_crossentropy(y_true, similarities).mean()"
      ]
    },
    {
      "cell_type": "markdown",
      "metadata": {
        "id": "-7sqikkh8co6"
      },
      "source": [
        "#### Angle Loss"
      ]
    },
    {
      "cell_type": "code",
      "execution_count": 16,
      "metadata": {
        "id": "NrGdbCaL8co6"
      },
      "outputs": [],
      "source": [
        "def angle_loss(embeddings, labels, tau=1.0):\n",
        "    embedding1, embedding2, labels = generate_pairs(embeddings, labels)\n",
        "\n",
        "    # Input preparation...\n",
        "    labels = (labels[:, None] < labels[None, :]).float()\n",
        "\n",
        "    # Chunking into real and imaginary parts...\n",
        "    y_pred_re1, y_pred_im1 = torch.chunk(embedding1, 2, dim=1)\n",
        "    y_pred_re2, y_pred_im2 = torch.chunk(embedding2, 2, dim=1)\n",
        "\n",
        "    a = y_pred_re1\n",
        "    b = y_pred_im1\n",
        "    c = y_pred_re2\n",
        "    d = y_pred_im2\n",
        "\n",
        "    z = torch.sum(c**2 + d**2, dim=1, keepdim=True)\n",
        "    re = (a * c + b * d) / z\n",
        "    im = (b * c - a * d) / z\n",
        "\n",
        "    dz = torch.sum(a**2 + b**2, dim=1, keepdim=True)**0.5\n",
        "    dw = torch.sum(c**2 + d**2, dim=1, keepdim=True)**0.5\n",
        "    re /= (dz / dw)\n",
        "    im /= (dz / dw)\n",
        "\n",
        "    y_pred = torch.concat((re, im), dim=1)\n",
        "    y_pred = torch.abs(torch.sum(y_pred, dim=1)) * tau\n",
        "    y_pred = y_pred[:, None] - y_pred[None, :]\n",
        "    y_pred = (y_pred - (1 - labels) * 1e12).view(-1)\n",
        "    zero = torch.Tensor([0]).to(y_pred.device)\n",
        "    y_pred = torch.concat((zero, y_pred), dim=0)\n",
        "    return torch.logsumexp(y_pred, dim=0)"
      ]
    },
    {
      "cell_type": "markdown",
      "metadata": {
        "id": "7ZOWltUY8co6"
      },
      "source": [
        "#### Combination of CoSENT, In-Batch Negatives and Angle Losses"
      ]
    },
    {
      "cell_type": "code",
      "execution_count": 17,
      "metadata": {
        "id": "SvjeVaJZ8co6"
      },
      "outputs": [],
      "source": [
        "def cosent_ibn_angle(embeddings, labels, w_cosent=1, w_ibn=1, w_angle=1, tau_cosent=20.0, tau_ibn=20.0, tau_angle=1.0):\n",
        "    return w_cosent * cosent_loss(embeddings, labels, tau_cosent) + w_ibn * in_batch_negative_loss(embeddings, labels, tau_ibn) + w_angle * angle_loss(embeddings, labels, tau_angle)"
      ]
    },
    {
      "cell_type": "markdown",
      "metadata": {
        "id": "dCRCXBqB8co6"
      },
      "source": [
        "## Loss List"
      ]
    },
    {
      "cell_type": "code",
      "execution_count": 19,
      "metadata": {
        "id": "jBD1ZgGD8co7"
      },
      "outputs": [],
      "source": [
        "losses = [\n",
        "    # {'loss_name': 'without_ft', 'loss_type': 'emb', 'loss_kwargs': {}},\n",
        "    # {'loss_name': 'cross_entropy_loss', 'loss_type': 'clf', 'loss_kwargs': {}},\n",
        "    # {'loss_name': 'label_smoothing_cross_entropy_loss', 'loss_type': 'clf', 'loss_kwargs': {'smoothing': 0.1}},\n",
        "    # {'loss_name': 'triplet_loss', 'loss_type': 'emb', 'loss_kwargs': {'margin': 5}},\n",
        "    # {'loss_name': 'triplet_all_loss', 'loss_type': 'emb', 'loss_kwargs': {'margin': 5}},\n",
        "    # {'loss_name': 'hard_triplet_loss', 'loss_type': 'emb', 'loss_kwargs': {'margin': 5}},\n",
        "    # {'loss_name': 'cosine_similarity_mse_loss', 'loss_type': 'emb', 'loss_kwargs': {}},\n",
        "    # {'loss_name': 'cosent_loss', 'loss_type': 'emb', 'loss_kwargs': {'tau': 20.0}},\n",
        "    # {'loss_name': 'in_batch_negative_loss', 'loss_type': 'emb', 'loss_kwargs': {'tau': 20.0}},\n",
        "    # {'loss_name': 'angle_loss', 'loss_type': 'emb', 'loss_kwargs': {'tau': 1.0}},\n",
        "    {'loss_name': 'cosent_ibn_angle', 'loss_type': 'emb', 'loss_kwargs': {'w_cosent': 1, 'w_ibn': 1, 'w_angle': 1, 'tau_cosent': 20.0, 'tau_ibn': 20.0, 'tau_angle': 1.0}}\n",
        "]"
      ]
    },
    {
      "cell_type": "markdown",
      "metadata": {
        "id": "OPMwf-lb8co7"
      },
      "source": [
        "# Training"
      ]
    },
    {
      "cell_type": "markdown",
      "metadata": {
        "id": "fKHyDcgz8co7"
      },
      "source": [
        "### Training Preparation"
      ]
    },
    {
      "cell_type": "markdown",
      "metadata": {
        "id": "5V2Z4wPt8co7"
      },
      "source": [
        "#### Device Setting"
      ]
    },
    {
      "cell_type": "code",
      "execution_count": 20,
      "metadata": {
        "id": "P3Nr2BFY8co7"
      },
      "outputs": [],
      "source": [
        "device = torch.device('cuda') if torch.cuda.is_available() else torch.device('cpu')"
      ]
    },
    {
      "cell_type": "markdown",
      "metadata": {
        "id": "JqNh7crE8co7"
      },
      "source": [
        "#### Dataset Preparation"
      ]
    },
    {
      "cell_type": "code",
      "execution_count": 21,
      "metadata": {
        "id": "K4erFwLb8co7"
      },
      "outputs": [],
      "source": [
        "def prepare_dataset(dataset, split=0.3):\n",
        "    # Dataset Import...\n",
        "    ds = get_senteval_dataset(dataset)\n",
        "\n",
        "    # Random Split...\n",
        "    train_test_split = ds.train_test_split(test_size=split)\n",
        "    train_dataset = train_test_split['train']\n",
        "    test_dataset = train_test_split['test']\n",
        "    return train_dataset, test_dataset"
      ]
    },
    {
      "cell_type": "markdown",
      "metadata": {
        "id": "QDdvUgrT8co7"
      },
      "source": [
        "#### Model and Tokenizer Preparation"
      ]
    },
    {
      "cell_type": "code",
      "execution_count": 22,
      "metadata": {
        "id": "ScAyEnEJ8co8"
      },
      "outputs": [],
      "source": [
        "def get_model_tokenizer(model_id, type='clf', apply_lora=True):\n",
        "    tokenizer = AutoTokenizer.from_pretrained(model_id)\n",
        "    tokenizer.pad_token = tokenizer.eos_token  # Set the EOS token as the padding token\n",
        "    tokenizer.pad_token_id = tokenizer.eos_token_id\n",
        "\n",
        "    if type == 'clf':\n",
        "        model = AutoModelForSequenceClassification.from_pretrained(model_id, device_map='auto')\n",
        "    else:\n",
        "        model = AutoModelForCausalLM.from_pretrained(model_id)\n",
        "    model.config.pad_token_id = tokenizer.pad_token_id\n",
        "    model.config.use_cache = False\n",
        "    model.config.pretraining_tp = 1\n",
        "    model.to(device)\n",
        "\n",
        "    lora_config = LoraConfig(\n",
        "        task_type=TaskType.SEQ_CLS if type == 'clf' else TaskType.FEATURE_EXTRACTION,\n",
        "        r=88,\n",
        "        lora_alpha=16,\n",
        "        lora_dropout=0.1,\n",
        "        # target_modules=[\"q_proj\", \"v_proj\"],\n",
        "    )\n",
        "\n",
        "    if apply_lora:\n",
        "        model = get_peft_model(model, lora_config)\n",
        "\n",
        "        for name, param in model.named_parameters():\n",
        "            if \"lora\" not in name:\n",
        "                param.requires_grad = False  # Freeze non-LoRA layers\n",
        "            else:\n",
        "                param.requires_grad = True\n",
        "        print(f\"Trainable parameters: {sum(p.numel() for p in model.parameters() if p.requires_grad)}\")\n",
        "\n",
        "    return model, tokenizer"
      ]
    },
    {
      "cell_type": "markdown",
      "metadata": {
        "id": "F2WC-rqh8co8"
      },
      "source": [
        "#### Dataset Tokenization and Batch Processing"
      ]
    },
    {
      "cell_type": "code",
      "execution_count": 23,
      "metadata": {
        "id": "EH7Hndao8co8"
      },
      "outputs": [],
      "source": [
        "def tokenize_dataset_batch(train_dataset, test_dataset, tokenizer, batch_size):\n",
        "    def tokenize_function(examples):\n",
        "        return tokenizer(examples['sentence'], padding=True, truncation=True, max_length=128)\n",
        "\n",
        "    train_dataset = train_dataset.map(tokenize_function, batched=True)\n",
        "    test_dataset = test_dataset.map(tokenize_function, batched=True)\n",
        "    train_dataset.set_format(type='torch', columns=['input_ids', 'attention_mask', 'labels'])\n",
        "    test_dataset.set_format(type='torch', columns=['input_ids', 'attention_mask', 'labels'])\n",
        "    data_collator = DataCollatorWithPadding(tokenizer=tokenizer)\n",
        "\n",
        "    train_loader = DataLoader(train_dataset, batch_size=batch_size, shuffle=True, collate_fn=data_collator)\n",
        "    test_loader = DataLoader(test_dataset, batch_size=batch_size, collate_fn=data_collator)\n",
        "\n",
        "    return train_loader, test_loader"
      ]
    },
    {
      "cell_type": "markdown",
      "metadata": {
        "id": "zATKVsPw8co-"
      },
      "source": [
        "#### Embedding Extraction"
      ]
    },
    {
      "cell_type": "code",
      "execution_count": 24,
      "metadata": {
        "id": "_gv_25Cw8co-"
      },
      "outputs": [],
      "source": [
        "def extract_embeddings(model, device, dataloader):\n",
        "    all_embeddings = []\n",
        "    all_labels = []\n",
        "\n",
        "    with torch.no_grad():\n",
        "        for batch in tqdm(dataloader, desc=\"Extracting embeddings\", leave=False):\n",
        "            input_ids = batch['input_ids'].to(device)\n",
        "            attention_mask = batch['attention_mask'].to(device)\n",
        "            labels = batch['labels']\n",
        "            outputs = model(input_ids=input_ids, attention_mask=attention_mask, output_hidden_states=True, return_dict=True)\n",
        "            embeddings = outputs.hidden_states[-1].mean(dim=1)\n",
        "            all_embeddings.append(embeddings.cpu())\n",
        "            all_labels.extend(labels)\n",
        "\n",
        "    all_embeddings = torch.cat(all_embeddings)\n",
        "    all_labels = torch.tensor(all_labels)\n",
        "    return all_embeddings, all_labels"
      ]
    },
    {
      "cell_type": "markdown",
      "metadata": {
        "id": "d04FgBbP8co-"
      },
      "source": [
        "#### Train Driver"
      ]
    },
    {
      "cell_type": "code",
      "execution_count": 25,
      "metadata": {
        "id": "W8vL8pxe8co-"
      },
      "outputs": [],
      "source": [
        "def train(model, train_loader, model_type='clf', epochs=10, loss_name='cross_entropy_loss', **loss_kwargs):\n",
        "    # Optimizer setting...\n",
        "    optimizer = AdamW(model.parameters(), lr=5e-5)\n",
        "\n",
        "    # Training loop...\n",
        "    num_epochs = epochs\n",
        "    model.train()\n",
        "    for epoch in range(num_epochs):\n",
        "        # print(f\"Epoch {epoch + 1}/{num_epochs}\")\n",
        "        for batch in tqdm(train_loader, desc=\"Training\", leave=False):\n",
        "            batch = {k: v.to(device) for k, v in batch.items()}\n",
        "\n",
        "            if model_type == 'clf':\n",
        "                # Cross-Entropy Losses...\n",
        "                outputs = model(**batch)\n",
        "                logits = outputs.logits\n",
        "                loss = globals()[loss_name](logits, batch['labels'], **loss_kwargs)\n",
        "            else:\n",
        "                # Embedding Loss...\n",
        "                outputs = model(input_ids=batch['input_ids'], attention_mask=batch['attention_mask'], output_hidden_states=True, return_dict=True)\n",
        "                # Extracting the embeddings (e.g., mean of the last hidden layer)...\n",
        "                embeddings = outputs.hidden_states[-1].mean(dim=1)\n",
        "                loss = globals()[loss_name](embeddings, batch['labels'], **loss_kwargs)\n",
        "                if loss == 0.0:\n",
        "                    continue\n",
        "\n",
        "            # Backpropagation...\n",
        "            loss.backward()\n",
        "\n",
        "            # Updating weights...\n",
        "            optimizer.step()\n",
        "            optimizer.zero_grad()\n",
        "    return model"
      ]
    },
    {
      "cell_type": "markdown",
      "metadata": {
        "id": "bMAPL35V8co-"
      },
      "source": [
        "#### Evaluation Driver"
      ]
    },
    {
      "cell_type": "code",
      "execution_count": 26,
      "metadata": {
        "id": "HHc86RP08co-"
      },
      "outputs": [],
      "source": [
        "def evaluate_clf(model, test_loader):\n",
        "    model.eval()\n",
        "    total_correct = 0\n",
        "    total_samples = 0\n",
        "\n",
        "    with torch.no_grad():\n",
        "        for batch in test_loader:\n",
        "            batch = {k: v.to(device) for k, v in batch.items()}\n",
        "\n",
        "            # Forward pass...\n",
        "            outputs = model(**batch)\n",
        "            predictions = outputs.logits.argmax(dim=-1)\n",
        "\n",
        "            total_correct += (predictions == batch['labels']).sum().item()\n",
        "            total_samples += batch['labels'].size(0)\n",
        "\n",
        "    accuracy = total_correct / total_samples\n",
        "    return accuracy"
      ]
    },
    {
      "cell_type": "code",
      "execution_count": 27,
      "metadata": {
        "id": "k3Llqu4p8co-"
      },
      "outputs": [],
      "source": [
        "def evaluate_emb(model, train_loader, test_loader):\n",
        "    model.eval()\n",
        "\n",
        "    # Generating embeddings of the train and test sentences...\n",
        "    train_embeddings, train_labels = extract_embeddings(model, device, train_loader)\n",
        "    test_embeddings, test_labels = extract_embeddings(model, device, test_loader)\n",
        "\n",
        "    train_embeddings_np = train_embeddings.numpy()\n",
        "    test_embeddings_np = test_embeddings.numpy()\n",
        "    train_labels_np = train_labels.numpy()\n",
        "    test_labels_np = test_labels.numpy()\n",
        "\n",
        "    # Training a Logistic Regression classifier on the training embeddings...\n",
        "    lr_clf = LogisticRegression(max_iter=10000)\n",
        "    lr_clf.fit(train_embeddings_np, train_labels_np)\n",
        "\n",
        "    # Predicting the labels for the test set...\n",
        "    test_predictions = lr_clf.predict(test_embeddings_np)\n",
        "    accuracy = accuracy_score(test_labels_np, test_predictions)\n",
        "    return accuracy"
      ]
    },
    {
      "cell_type": "markdown",
      "metadata": {
        "id": "29co4Auc8co-"
      },
      "source": [
        "### Loop"
      ]
    },
    {
      "cell_type": "code",
      "execution_count": 28,
      "metadata": {
        "colab": {
          "base_uri": "https://localhost:8080/",
          "height": 307,
          "referenced_widgets": [
            "2061bf380f024a86b3851e7a2618d84c",
            "dfd8fecea99e44e7bccb4d725801daa1",
            "1d471157f9c24827b61625cab7dda4f5",
            "214a436a8ec14fa4b8b731e41748f215",
            "2864ff4f3da741d68d43f7f0d874ea41",
            "abed41d4a427461fbef4f5f51ed51960",
            "765aa3b1dac04f85a598b7bab3ba5041",
            "13886ed0e0d045fe8cb960ebc4b82af2",
            "d113157022744f0f9bc6a58caa97037d",
            "bfcac55cf0734ef88098949c64b3cf5a",
            "fe0edf7b30d34651bfd003f9c70b293e",
            "c0293cbf91b3487e9a97b517bbe30ab3",
            "598f3ffccde8402abeb43d68f0f72c69",
            "68808146073b42b690d02aaed47ff1b8",
            "659fe3372f084cf686cf063ae7f13232",
            "b03e1146666845248935420b6b21e7e7",
            "e85fec80ba274171acb405fae0d4f422",
            "ec5b27a826674241b8a0df68a8f0a6bb",
            "7281d22fa8424ddca85963b369e464c8",
            "47b08f21ab0f4a58afa35d673ad183ab",
            "0a28aede00154f73885de8e617437a81",
            "ba9ae16bb354438bbf6d5289d77c03b4",
            "7070242d57074545ad041ba135908cd3",
            "142986de44d14f2097096bebd32ebeb9",
            "f63bdd002ecd425f9c8906bd0ae4be9b",
            "d9ae80a9ce064146a3cdb749ce0b55f3",
            "88fd74df258d48378dfec6824d39376d",
            "ac2d590a577c486fa5a2d556c7702fdb",
            "13f953260c2e43519d43d6627264a62f",
            "6bbfc4ea3b9e4f4e993bd9dec700a783",
            "666700a2d2fe41ffb373703630c4519a",
            "90b54203a6d449dca1e692ffa9a31f1c",
            "b1541ebe33754998b592075f6d090d52"
          ]
        },
        "id": "aCpfnAJn8co-",
        "outputId": "7404a6df-490f-479b-fef4-8db542c84aad"
      },
      "outputs": [
        {
          "name": "stdout",
          "output_type": "stream",
          "text": [
            "Running: cosent_ibn_angle on CR\n"
          ]
        },
        {
          "name": "stderr",
          "output_type": "stream",
          "text": [
            "/usr/local/lib/python3.10/dist-packages/huggingface_hub/utils/_auth.py:94: UserWarning: \n",
            "The secret `HF_TOKEN` does not exist in your Colab secrets.\n",
            "To authenticate with the Hugging Face Hub, create a token in your settings tab (https://huggingface.co/settings/tokens), set it as secret in your Google Colab and restart your session.\n",
            "You will be able to reuse this secret in all of your notebooks.\n",
            "Please note that authentication is recommended but still optional to access public models or datasets.\n",
            "  warnings.warn(\n"
          ]
        },
        {
          "data": {
            "application/vnd.jupyter.widget-view+json": {
              "model_id": "2061bf380f024a86b3851e7a2618d84c",
              "version_major": 2,
              "version_minor": 0
            },
            "text/plain": [
              "generation_config.json:   0%|          | 0.00/185 [00:00<?, ?B/s]"
            ]
          },
          "metadata": {},
          "output_type": "display_data"
        },
        {
          "name": "stdout",
          "output_type": "stream",
          "text": [
            "Trainable parameters: 9371648\n"
          ]
        },
        {
          "data": {
            "application/vnd.jupyter.widget-view+json": {
              "model_id": "c0293cbf91b3487e9a97b517bbe30ab3",
              "version_major": 2,
              "version_minor": 0
            },
            "text/plain": [
              "Map:   0%|          | 0/2642 [00:00<?, ? examples/s]"
            ]
          },
          "metadata": {},
          "output_type": "display_data"
        },
        {
          "data": {
            "application/vnd.jupyter.widget-view+json": {
              "model_id": "7070242d57074545ad041ba135908cd3",
              "version_major": 2,
              "version_minor": 0
            },
            "text/plain": [
              "Map:   0%|          | 0/1133 [00:00<?, ? examples/s]"
            ]
          },
          "metadata": {},
          "output_type": "display_data"
        },
        {
          "name": "stderr",
          "output_type": "stream",
          "text": [
            "/usr/local/lib/python3.10/dist-packages/transformers/optimization.py:591: FutureWarning: This implementation of AdamW is deprecated and will be removed in a future version. Use the PyTorch implementation torch.optim.AdamW instead, or set `no_deprecation_warning=True` to disable this warning\n",
            "  warnings.warn(\n"
          ]
        }
      ],
      "source": [
        "total_runs = 3\n",
        "batch_size = 10\n",
        "accuracy_list = []\n",
        "for loss in losses:\n",
        "    loss_name = loss['loss_name']\n",
        "    loss_type = loss['loss_type']\n",
        "    loss_kwargs = loss['loss_kwargs']\n",
        "\n",
        "    for dataset in senteval_datasets:\n",
        "        print(f'Running: {loss_name} on {dataset}')\n",
        "        total_accuracy = 0\n",
        "\n",
        "        for loop_count in range(0, total_runs):\n",
        "            # Dataset Preparation...\n",
        "            train_dataset, test_dataset = prepare_dataset(dataset)\n",
        "\n",
        "            # Model Preparation...\n",
        "            model, tokenizer = get_model_tokenizer(model_id, loss_type)\n",
        "\n",
        "            # Tokenize Batch...\n",
        "            train_loader, test_loader = tokenize_dataset_batch(train_dataset, test_dataset, tokenizer, batch_size=batch_size)\n",
        "\n",
        "            # Training Loop...\n",
        "            if loss_name != 'without_ft':\n",
        "                model = train(model, train_loader, loss_type, epochs=10, loss_name=loss_name, **loss_kwargs)\n",
        "\n",
        "            # Evaluation loop...\n",
        "            if loss_type == 'clf':\n",
        "                accuracy = evaluate_clf(model, test_loader)\n",
        "            else:\n",
        "                accuracy = evaluate_emb(model, train_loader, test_loader)\n",
        "            # print(f'Loop {loop_count} Accuracy - {accuracy}')\n",
        "            total_accuracy += accuracy\n",
        "        accuracy_list.append({'loss': loss_name, 'dataset': dataset, 'accuracy': total_accuracy / total_runs})"
      ]
    }
  ],
  "metadata": {
    "accelerator": "GPU",
    "colab": {
      "collapsed_sections": [
        "p2ygC8eP8coa",
        "sDkFdtln8cof",
        "9yopQ8Rs8coj",
        "YGlQVXDP8com",
        "PDVx0vu58coq",
        "GLYTWsiv8coq",
        "8-Menku38cov",
        "mC_u0wnq8cow",
        "NqZFidof8co2",
        "OPMwf-lb8co7",
        "fKHyDcgz8co7",
        "5V2Z4wPt8co7",
        "JqNh7crE8co7",
        "QDdvUgrT8co7",
        "F2WC-rqh8co8",
        "zATKVsPw8co-",
        "d04FgBbP8co-",
        "bMAPL35V8co-",
        "29co4Auc8co-"
      ],
      "gpuType": "T4",
      "provenance": []
    },
    "kernelspec": {
      "display_name": "Python 3",
      "name": "python3"
    },
    "language_info": {
      "codemirror_mode": {
        "name": "ipython",
        "version": 3
      },
      "file_extension": ".py",
      "mimetype": "text/x-python",
      "name": "python",
      "nbconvert_exporter": "python",
      "pygments_lexer": "ipython3",
      "version": "3.10.12"
    },
    "widgets": {
      "application/vnd.jupyter.widget-state+json": {
        "0a28aede00154f73885de8e617437a81": {
          "model_module": "@jupyter-widgets/base",
          "model_module_version": "1.2.0",
          "model_name": "LayoutModel",
          "state": {
            "_model_module": "@jupyter-widgets/base",
            "_model_module_version": "1.2.0",
            "_model_name": "LayoutModel",
            "_view_count": null,
            "_view_module": "@jupyter-widgets/base",
            "_view_module_version": "1.2.0",
            "_view_name": "LayoutView",
            "align_content": null,
            "align_items": null,
            "align_self": null,
            "border": null,
            "bottom": null,
            "display": null,
            "flex": null,
            "flex_flow": null,
            "grid_area": null,
            "grid_auto_columns": null,
            "grid_auto_flow": null,
            "grid_auto_rows": null,
            "grid_column": null,
            "grid_gap": null,
            "grid_row": null,
            "grid_template_areas": null,
            "grid_template_columns": null,
            "grid_template_rows": null,
            "height": null,
            "justify_content": null,
            "justify_items": null,
            "left": null,
            "margin": null,
            "max_height": null,
            "max_width": null,
            "min_height": null,
            "min_width": null,
            "object_fit": null,
            "object_position": null,
            "order": null,
            "overflow": null,
            "overflow_x": null,
            "overflow_y": null,
            "padding": null,
            "right": null,
            "top": null,
            "visibility": null,
            "width": null
          }
        },
        "13886ed0e0d045fe8cb960ebc4b82af2": {
          "model_module": "@jupyter-widgets/base",
          "model_module_version": "1.2.0",
          "model_name": "LayoutModel",
          "state": {
            "_model_module": "@jupyter-widgets/base",
            "_model_module_version": "1.2.0",
            "_model_name": "LayoutModel",
            "_view_count": null,
            "_view_module": "@jupyter-widgets/base",
            "_view_module_version": "1.2.0",
            "_view_name": "LayoutView",
            "align_content": null,
            "align_items": null,
            "align_self": null,
            "border": null,
            "bottom": null,
            "display": null,
            "flex": null,
            "flex_flow": null,
            "grid_area": null,
            "grid_auto_columns": null,
            "grid_auto_flow": null,
            "grid_auto_rows": null,
            "grid_column": null,
            "grid_gap": null,
            "grid_row": null,
            "grid_template_areas": null,
            "grid_template_columns": null,
            "grid_template_rows": null,
            "height": null,
            "justify_content": null,
            "justify_items": null,
            "left": null,
            "margin": null,
            "max_height": null,
            "max_width": null,
            "min_height": null,
            "min_width": null,
            "object_fit": null,
            "object_position": null,
            "order": null,
            "overflow": null,
            "overflow_x": null,
            "overflow_y": null,
            "padding": null,
            "right": null,
            "top": null,
            "visibility": null,
            "width": null
          }
        },
        "13f953260c2e43519d43d6627264a62f": {
          "model_module": "@jupyter-widgets/controls",
          "model_module_version": "1.5.0",
          "model_name": "DescriptionStyleModel",
          "state": {
            "_model_module": "@jupyter-widgets/controls",
            "_model_module_version": "1.5.0",
            "_model_name": "DescriptionStyleModel",
            "_view_count": null,
            "_view_module": "@jupyter-widgets/base",
            "_view_module_version": "1.2.0",
            "_view_name": "StyleView",
            "description_width": ""
          }
        },
        "142986de44d14f2097096bebd32ebeb9": {
          "model_module": "@jupyter-widgets/controls",
          "model_module_version": "1.5.0",
          "model_name": "HTMLModel",
          "state": {
            "_dom_classes": [],
            "_model_module": "@jupyter-widgets/controls",
            "_model_module_version": "1.5.0",
            "_model_name": "HTMLModel",
            "_view_count": null,
            "_view_module": "@jupyter-widgets/controls",
            "_view_module_version": "1.5.0",
            "_view_name": "HTMLView",
            "description": "",
            "description_tooltip": null,
            "layout": "IPY_MODEL_ac2d590a577c486fa5a2d556c7702fdb",
            "placeholder": "​",
            "style": "IPY_MODEL_13f953260c2e43519d43d6627264a62f",
            "value": "Map: 100%"
          }
        },
        "1d471157f9c24827b61625cab7dda4f5": {
          "model_module": "@jupyter-widgets/controls",
          "model_module_version": "1.5.0",
          "model_name": "FloatProgressModel",
          "state": {
            "_dom_classes": [],
            "_model_module": "@jupyter-widgets/controls",
            "_model_module_version": "1.5.0",
            "_model_name": "FloatProgressModel",
            "_view_count": null,
            "_view_module": "@jupyter-widgets/controls",
            "_view_module_version": "1.5.0",
            "_view_name": "ProgressView",
            "bar_style": "success",
            "description": "",
            "description_tooltip": null,
            "layout": "IPY_MODEL_13886ed0e0d045fe8cb960ebc4b82af2",
            "max": 185,
            "min": 0,
            "orientation": "horizontal",
            "style": "IPY_MODEL_d113157022744f0f9bc6a58caa97037d",
            "value": 185
          }
        },
        "2061bf380f024a86b3851e7a2618d84c": {
          "model_module": "@jupyter-widgets/controls",
          "model_module_version": "1.5.0",
          "model_name": "HBoxModel",
          "state": {
            "_dom_classes": [],
            "_model_module": "@jupyter-widgets/controls",
            "_model_module_version": "1.5.0",
            "_model_name": "HBoxModel",
            "_view_count": null,
            "_view_module": "@jupyter-widgets/controls",
            "_view_module_version": "1.5.0",
            "_view_name": "HBoxView",
            "box_style": "",
            "children": [
              "IPY_MODEL_dfd8fecea99e44e7bccb4d725801daa1",
              "IPY_MODEL_1d471157f9c24827b61625cab7dda4f5",
              "IPY_MODEL_214a436a8ec14fa4b8b731e41748f215"
            ],
            "layout": "IPY_MODEL_2864ff4f3da741d68d43f7f0d874ea41"
          }
        },
        "214a436a8ec14fa4b8b731e41748f215": {
          "model_module": "@jupyter-widgets/controls",
          "model_module_version": "1.5.0",
          "model_name": "HTMLModel",
          "state": {
            "_dom_classes": [],
            "_model_module": "@jupyter-widgets/controls",
            "_model_module_version": "1.5.0",
            "_model_name": "HTMLModel",
            "_view_count": null,
            "_view_module": "@jupyter-widgets/controls",
            "_view_module_version": "1.5.0",
            "_view_name": "HTMLView",
            "description": "",
            "description_tooltip": null,
            "layout": "IPY_MODEL_bfcac55cf0734ef88098949c64b3cf5a",
            "placeholder": "​",
            "style": "IPY_MODEL_fe0edf7b30d34651bfd003f9c70b293e",
            "value": " 185/185 [00:00&lt;00:00, 13.1kB/s]"
          }
        },
        "2864ff4f3da741d68d43f7f0d874ea41": {
          "model_module": "@jupyter-widgets/base",
          "model_module_version": "1.2.0",
          "model_name": "LayoutModel",
          "state": {
            "_model_module": "@jupyter-widgets/base",
            "_model_module_version": "1.2.0",
            "_model_name": "LayoutModel",
            "_view_count": null,
            "_view_module": "@jupyter-widgets/base",
            "_view_module_version": "1.2.0",
            "_view_name": "LayoutView",
            "align_content": null,
            "align_items": null,
            "align_self": null,
            "border": null,
            "bottom": null,
            "display": null,
            "flex": null,
            "flex_flow": null,
            "grid_area": null,
            "grid_auto_columns": null,
            "grid_auto_flow": null,
            "grid_auto_rows": null,
            "grid_column": null,
            "grid_gap": null,
            "grid_row": null,
            "grid_template_areas": null,
            "grid_template_columns": null,
            "grid_template_rows": null,
            "height": null,
            "justify_content": null,
            "justify_items": null,
            "left": null,
            "margin": null,
            "max_height": null,
            "max_width": null,
            "min_height": null,
            "min_width": null,
            "object_fit": null,
            "object_position": null,
            "order": null,
            "overflow": null,
            "overflow_x": null,
            "overflow_y": null,
            "padding": null,
            "right": null,
            "top": null,
            "visibility": null,
            "width": null
          }
        },
        "47b08f21ab0f4a58afa35d673ad183ab": {
          "model_module": "@jupyter-widgets/controls",
          "model_module_version": "1.5.0",
          "model_name": "ProgressStyleModel",
          "state": {
            "_model_module": "@jupyter-widgets/controls",
            "_model_module_version": "1.5.0",
            "_model_name": "ProgressStyleModel",
            "_view_count": null,
            "_view_module": "@jupyter-widgets/base",
            "_view_module_version": "1.2.0",
            "_view_name": "StyleView",
            "bar_color": null,
            "description_width": ""
          }
        },
        "598f3ffccde8402abeb43d68f0f72c69": {
          "model_module": "@jupyter-widgets/controls",
          "model_module_version": "1.5.0",
          "model_name": "HTMLModel",
          "state": {
            "_dom_classes": [],
            "_model_module": "@jupyter-widgets/controls",
            "_model_module_version": "1.5.0",
            "_model_name": "HTMLModel",
            "_view_count": null,
            "_view_module": "@jupyter-widgets/controls",
            "_view_module_version": "1.5.0",
            "_view_name": "HTMLView",
            "description": "",
            "description_tooltip": null,
            "layout": "IPY_MODEL_e85fec80ba274171acb405fae0d4f422",
            "placeholder": "​",
            "style": "IPY_MODEL_ec5b27a826674241b8a0df68a8f0a6bb",
            "value": "Map: 100%"
          }
        },
        "659fe3372f084cf686cf063ae7f13232": {
          "model_module": "@jupyter-widgets/controls",
          "model_module_version": "1.5.0",
          "model_name": "HTMLModel",
          "state": {
            "_dom_classes": [],
            "_model_module": "@jupyter-widgets/controls",
            "_model_module_version": "1.5.0",
            "_model_name": "HTMLModel",
            "_view_count": null,
            "_view_module": "@jupyter-widgets/controls",
            "_view_module_version": "1.5.0",
            "_view_name": "HTMLView",
            "description": "",
            "description_tooltip": null,
            "layout": "IPY_MODEL_0a28aede00154f73885de8e617437a81",
            "placeholder": "​",
            "style": "IPY_MODEL_ba9ae16bb354438bbf6d5289d77c03b4",
            "value": " 2642/2642 [00:00&lt;00:00, 4754.57 examples/s]"
          }
        },
        "666700a2d2fe41ffb373703630c4519a": {
          "model_module": "@jupyter-widgets/controls",
          "model_module_version": "1.5.0",
          "model_name": "ProgressStyleModel",
          "state": {
            "_model_module": "@jupyter-widgets/controls",
            "_model_module_version": "1.5.0",
            "_model_name": "ProgressStyleModel",
            "_view_count": null,
            "_view_module": "@jupyter-widgets/base",
            "_view_module_version": "1.2.0",
            "_view_name": "StyleView",
            "bar_color": null,
            "description_width": ""
          }
        },
        "68808146073b42b690d02aaed47ff1b8": {
          "model_module": "@jupyter-widgets/controls",
          "model_module_version": "1.5.0",
          "model_name": "FloatProgressModel",
          "state": {
            "_dom_classes": [],
            "_model_module": "@jupyter-widgets/controls",
            "_model_module_version": "1.5.0",
            "_model_name": "FloatProgressModel",
            "_view_count": null,
            "_view_module": "@jupyter-widgets/controls",
            "_view_module_version": "1.5.0",
            "_view_name": "ProgressView",
            "bar_style": "success",
            "description": "",
            "description_tooltip": null,
            "layout": "IPY_MODEL_7281d22fa8424ddca85963b369e464c8",
            "max": 2642,
            "min": 0,
            "orientation": "horizontal",
            "style": "IPY_MODEL_47b08f21ab0f4a58afa35d673ad183ab",
            "value": 2642
          }
        },
        "6bbfc4ea3b9e4f4e993bd9dec700a783": {
          "model_module": "@jupyter-widgets/base",
          "model_module_version": "1.2.0",
          "model_name": "LayoutModel",
          "state": {
            "_model_module": "@jupyter-widgets/base",
            "_model_module_version": "1.2.0",
            "_model_name": "LayoutModel",
            "_view_count": null,
            "_view_module": "@jupyter-widgets/base",
            "_view_module_version": "1.2.0",
            "_view_name": "LayoutView",
            "align_content": null,
            "align_items": null,
            "align_self": null,
            "border": null,
            "bottom": null,
            "display": null,
            "flex": null,
            "flex_flow": null,
            "grid_area": null,
            "grid_auto_columns": null,
            "grid_auto_flow": null,
            "grid_auto_rows": null,
            "grid_column": null,
            "grid_gap": null,
            "grid_row": null,
            "grid_template_areas": null,
            "grid_template_columns": null,
            "grid_template_rows": null,
            "height": null,
            "justify_content": null,
            "justify_items": null,
            "left": null,
            "margin": null,
            "max_height": null,
            "max_width": null,
            "min_height": null,
            "min_width": null,
            "object_fit": null,
            "object_position": null,
            "order": null,
            "overflow": null,
            "overflow_x": null,
            "overflow_y": null,
            "padding": null,
            "right": null,
            "top": null,
            "visibility": null,
            "width": null
          }
        },
        "7070242d57074545ad041ba135908cd3": {
          "model_module": "@jupyter-widgets/controls",
          "model_module_version": "1.5.0",
          "model_name": "HBoxModel",
          "state": {
            "_dom_classes": [],
            "_model_module": "@jupyter-widgets/controls",
            "_model_module_version": "1.5.0",
            "_model_name": "HBoxModel",
            "_view_count": null,
            "_view_module": "@jupyter-widgets/controls",
            "_view_module_version": "1.5.0",
            "_view_name": "HBoxView",
            "box_style": "",
            "children": [
              "IPY_MODEL_142986de44d14f2097096bebd32ebeb9",
              "IPY_MODEL_f63bdd002ecd425f9c8906bd0ae4be9b",
              "IPY_MODEL_d9ae80a9ce064146a3cdb749ce0b55f3"
            ],
            "layout": "IPY_MODEL_88fd74df258d48378dfec6824d39376d"
          }
        },
        "7281d22fa8424ddca85963b369e464c8": {
          "model_module": "@jupyter-widgets/base",
          "model_module_version": "1.2.0",
          "model_name": "LayoutModel",
          "state": {
            "_model_module": "@jupyter-widgets/base",
            "_model_module_version": "1.2.0",
            "_model_name": "LayoutModel",
            "_view_count": null,
            "_view_module": "@jupyter-widgets/base",
            "_view_module_version": "1.2.0",
            "_view_name": "LayoutView",
            "align_content": null,
            "align_items": null,
            "align_self": null,
            "border": null,
            "bottom": null,
            "display": null,
            "flex": null,
            "flex_flow": null,
            "grid_area": null,
            "grid_auto_columns": null,
            "grid_auto_flow": null,
            "grid_auto_rows": null,
            "grid_column": null,
            "grid_gap": null,
            "grid_row": null,
            "grid_template_areas": null,
            "grid_template_columns": null,
            "grid_template_rows": null,
            "height": null,
            "justify_content": null,
            "justify_items": null,
            "left": null,
            "margin": null,
            "max_height": null,
            "max_width": null,
            "min_height": null,
            "min_width": null,
            "object_fit": null,
            "object_position": null,
            "order": null,
            "overflow": null,
            "overflow_x": null,
            "overflow_y": null,
            "padding": null,
            "right": null,
            "top": null,
            "visibility": null,
            "width": null
          }
        },
        "765aa3b1dac04f85a598b7bab3ba5041": {
          "model_module": "@jupyter-widgets/controls",
          "model_module_version": "1.5.0",
          "model_name": "DescriptionStyleModel",
          "state": {
            "_model_module": "@jupyter-widgets/controls",
            "_model_module_version": "1.5.0",
            "_model_name": "DescriptionStyleModel",
            "_view_count": null,
            "_view_module": "@jupyter-widgets/base",
            "_view_module_version": "1.2.0",
            "_view_name": "StyleView",
            "description_width": ""
          }
        },
        "88fd74df258d48378dfec6824d39376d": {
          "model_module": "@jupyter-widgets/base",
          "model_module_version": "1.2.0",
          "model_name": "LayoutModel",
          "state": {
            "_model_module": "@jupyter-widgets/base",
            "_model_module_version": "1.2.0",
            "_model_name": "LayoutModel",
            "_view_count": null,
            "_view_module": "@jupyter-widgets/base",
            "_view_module_version": "1.2.0",
            "_view_name": "LayoutView",
            "align_content": null,
            "align_items": null,
            "align_self": null,
            "border": null,
            "bottom": null,
            "display": null,
            "flex": null,
            "flex_flow": null,
            "grid_area": null,
            "grid_auto_columns": null,
            "grid_auto_flow": null,
            "grid_auto_rows": null,
            "grid_column": null,
            "grid_gap": null,
            "grid_row": null,
            "grid_template_areas": null,
            "grid_template_columns": null,
            "grid_template_rows": null,
            "height": null,
            "justify_content": null,
            "justify_items": null,
            "left": null,
            "margin": null,
            "max_height": null,
            "max_width": null,
            "min_height": null,
            "min_width": null,
            "object_fit": null,
            "object_position": null,
            "order": null,
            "overflow": null,
            "overflow_x": null,
            "overflow_y": null,
            "padding": null,
            "right": null,
            "top": null,
            "visibility": null,
            "width": null
          }
        },
        "90b54203a6d449dca1e692ffa9a31f1c": {
          "model_module": "@jupyter-widgets/base",
          "model_module_version": "1.2.0",
          "model_name": "LayoutModel",
          "state": {
            "_model_module": "@jupyter-widgets/base",
            "_model_module_version": "1.2.0",
            "_model_name": "LayoutModel",
            "_view_count": null,
            "_view_module": "@jupyter-widgets/base",
            "_view_module_version": "1.2.0",
            "_view_name": "LayoutView",
            "align_content": null,
            "align_items": null,
            "align_self": null,
            "border": null,
            "bottom": null,
            "display": null,
            "flex": null,
            "flex_flow": null,
            "grid_area": null,
            "grid_auto_columns": null,
            "grid_auto_flow": null,
            "grid_auto_rows": null,
            "grid_column": null,
            "grid_gap": null,
            "grid_row": null,
            "grid_template_areas": null,
            "grid_template_columns": null,
            "grid_template_rows": null,
            "height": null,
            "justify_content": null,
            "justify_items": null,
            "left": null,
            "margin": null,
            "max_height": null,
            "max_width": null,
            "min_height": null,
            "min_width": null,
            "object_fit": null,
            "object_position": null,
            "order": null,
            "overflow": null,
            "overflow_x": null,
            "overflow_y": null,
            "padding": null,
            "right": null,
            "top": null,
            "visibility": null,
            "width": null
          }
        },
        "abed41d4a427461fbef4f5f51ed51960": {
          "model_module": "@jupyter-widgets/base",
          "model_module_version": "1.2.0",
          "model_name": "LayoutModel",
          "state": {
            "_model_module": "@jupyter-widgets/base",
            "_model_module_version": "1.2.0",
            "_model_name": "LayoutModel",
            "_view_count": null,
            "_view_module": "@jupyter-widgets/base",
            "_view_module_version": "1.2.0",
            "_view_name": "LayoutView",
            "align_content": null,
            "align_items": null,
            "align_self": null,
            "border": null,
            "bottom": null,
            "display": null,
            "flex": null,
            "flex_flow": null,
            "grid_area": null,
            "grid_auto_columns": null,
            "grid_auto_flow": null,
            "grid_auto_rows": null,
            "grid_column": null,
            "grid_gap": null,
            "grid_row": null,
            "grid_template_areas": null,
            "grid_template_columns": null,
            "grid_template_rows": null,
            "height": null,
            "justify_content": null,
            "justify_items": null,
            "left": null,
            "margin": null,
            "max_height": null,
            "max_width": null,
            "min_height": null,
            "min_width": null,
            "object_fit": null,
            "object_position": null,
            "order": null,
            "overflow": null,
            "overflow_x": null,
            "overflow_y": null,
            "padding": null,
            "right": null,
            "top": null,
            "visibility": null,
            "width": null
          }
        },
        "ac2d590a577c486fa5a2d556c7702fdb": {
          "model_module": "@jupyter-widgets/base",
          "model_module_version": "1.2.0",
          "model_name": "LayoutModel",
          "state": {
            "_model_module": "@jupyter-widgets/base",
            "_model_module_version": "1.2.0",
            "_model_name": "LayoutModel",
            "_view_count": null,
            "_view_module": "@jupyter-widgets/base",
            "_view_module_version": "1.2.0",
            "_view_name": "LayoutView",
            "align_content": null,
            "align_items": null,
            "align_self": null,
            "border": null,
            "bottom": null,
            "display": null,
            "flex": null,
            "flex_flow": null,
            "grid_area": null,
            "grid_auto_columns": null,
            "grid_auto_flow": null,
            "grid_auto_rows": null,
            "grid_column": null,
            "grid_gap": null,
            "grid_row": null,
            "grid_template_areas": null,
            "grid_template_columns": null,
            "grid_template_rows": null,
            "height": null,
            "justify_content": null,
            "justify_items": null,
            "left": null,
            "margin": null,
            "max_height": null,
            "max_width": null,
            "min_height": null,
            "min_width": null,
            "object_fit": null,
            "object_position": null,
            "order": null,
            "overflow": null,
            "overflow_x": null,
            "overflow_y": null,
            "padding": null,
            "right": null,
            "top": null,
            "visibility": null,
            "width": null
          }
        },
        "b03e1146666845248935420b6b21e7e7": {
          "model_module": "@jupyter-widgets/base",
          "model_module_version": "1.2.0",
          "model_name": "LayoutModel",
          "state": {
            "_model_module": "@jupyter-widgets/base",
            "_model_module_version": "1.2.0",
            "_model_name": "LayoutModel",
            "_view_count": null,
            "_view_module": "@jupyter-widgets/base",
            "_view_module_version": "1.2.0",
            "_view_name": "LayoutView",
            "align_content": null,
            "align_items": null,
            "align_self": null,
            "border": null,
            "bottom": null,
            "display": null,
            "flex": null,
            "flex_flow": null,
            "grid_area": null,
            "grid_auto_columns": null,
            "grid_auto_flow": null,
            "grid_auto_rows": null,
            "grid_column": null,
            "grid_gap": null,
            "grid_row": null,
            "grid_template_areas": null,
            "grid_template_columns": null,
            "grid_template_rows": null,
            "height": null,
            "justify_content": null,
            "justify_items": null,
            "left": null,
            "margin": null,
            "max_height": null,
            "max_width": null,
            "min_height": null,
            "min_width": null,
            "object_fit": null,
            "object_position": null,
            "order": null,
            "overflow": null,
            "overflow_x": null,
            "overflow_y": null,
            "padding": null,
            "right": null,
            "top": null,
            "visibility": null,
            "width": null
          }
        },
        "b1541ebe33754998b592075f6d090d52": {
          "model_module": "@jupyter-widgets/controls",
          "model_module_version": "1.5.0",
          "model_name": "DescriptionStyleModel",
          "state": {
            "_model_module": "@jupyter-widgets/controls",
            "_model_module_version": "1.5.0",
            "_model_name": "DescriptionStyleModel",
            "_view_count": null,
            "_view_module": "@jupyter-widgets/base",
            "_view_module_version": "1.2.0",
            "_view_name": "StyleView",
            "description_width": ""
          }
        },
        "ba9ae16bb354438bbf6d5289d77c03b4": {
          "model_module": "@jupyter-widgets/controls",
          "model_module_version": "1.5.0",
          "model_name": "DescriptionStyleModel",
          "state": {
            "_model_module": "@jupyter-widgets/controls",
            "_model_module_version": "1.5.0",
            "_model_name": "DescriptionStyleModel",
            "_view_count": null,
            "_view_module": "@jupyter-widgets/base",
            "_view_module_version": "1.2.0",
            "_view_name": "StyleView",
            "description_width": ""
          }
        },
        "bfcac55cf0734ef88098949c64b3cf5a": {
          "model_module": "@jupyter-widgets/base",
          "model_module_version": "1.2.0",
          "model_name": "LayoutModel",
          "state": {
            "_model_module": "@jupyter-widgets/base",
            "_model_module_version": "1.2.0",
            "_model_name": "LayoutModel",
            "_view_count": null,
            "_view_module": "@jupyter-widgets/base",
            "_view_module_version": "1.2.0",
            "_view_name": "LayoutView",
            "align_content": null,
            "align_items": null,
            "align_self": null,
            "border": null,
            "bottom": null,
            "display": null,
            "flex": null,
            "flex_flow": null,
            "grid_area": null,
            "grid_auto_columns": null,
            "grid_auto_flow": null,
            "grid_auto_rows": null,
            "grid_column": null,
            "grid_gap": null,
            "grid_row": null,
            "grid_template_areas": null,
            "grid_template_columns": null,
            "grid_template_rows": null,
            "height": null,
            "justify_content": null,
            "justify_items": null,
            "left": null,
            "margin": null,
            "max_height": null,
            "max_width": null,
            "min_height": null,
            "min_width": null,
            "object_fit": null,
            "object_position": null,
            "order": null,
            "overflow": null,
            "overflow_x": null,
            "overflow_y": null,
            "padding": null,
            "right": null,
            "top": null,
            "visibility": null,
            "width": null
          }
        },
        "c0293cbf91b3487e9a97b517bbe30ab3": {
          "model_module": "@jupyter-widgets/controls",
          "model_module_version": "1.5.0",
          "model_name": "HBoxModel",
          "state": {
            "_dom_classes": [],
            "_model_module": "@jupyter-widgets/controls",
            "_model_module_version": "1.5.0",
            "_model_name": "HBoxModel",
            "_view_count": null,
            "_view_module": "@jupyter-widgets/controls",
            "_view_module_version": "1.5.0",
            "_view_name": "HBoxView",
            "box_style": "",
            "children": [
              "IPY_MODEL_598f3ffccde8402abeb43d68f0f72c69",
              "IPY_MODEL_68808146073b42b690d02aaed47ff1b8",
              "IPY_MODEL_659fe3372f084cf686cf063ae7f13232"
            ],
            "layout": "IPY_MODEL_b03e1146666845248935420b6b21e7e7"
          }
        },
        "d113157022744f0f9bc6a58caa97037d": {
          "model_module": "@jupyter-widgets/controls",
          "model_module_version": "1.5.0",
          "model_name": "ProgressStyleModel",
          "state": {
            "_model_module": "@jupyter-widgets/controls",
            "_model_module_version": "1.5.0",
            "_model_name": "ProgressStyleModel",
            "_view_count": null,
            "_view_module": "@jupyter-widgets/base",
            "_view_module_version": "1.2.0",
            "_view_name": "StyleView",
            "bar_color": null,
            "description_width": ""
          }
        },
        "d9ae80a9ce064146a3cdb749ce0b55f3": {
          "model_module": "@jupyter-widgets/controls",
          "model_module_version": "1.5.0",
          "model_name": "HTMLModel",
          "state": {
            "_dom_classes": [],
            "_model_module": "@jupyter-widgets/controls",
            "_model_module_version": "1.5.0",
            "_model_name": "HTMLModel",
            "_view_count": null,
            "_view_module": "@jupyter-widgets/controls",
            "_view_module_version": "1.5.0",
            "_view_name": "HTMLView",
            "description": "",
            "description_tooltip": null,
            "layout": "IPY_MODEL_90b54203a6d449dca1e692ffa9a31f1c",
            "placeholder": "​",
            "style": "IPY_MODEL_b1541ebe33754998b592075f6d090d52",
            "value": " 1133/1133 [00:00&lt;00:00, 4877.28 examples/s]"
          }
        },
        "dfd8fecea99e44e7bccb4d725801daa1": {
          "model_module": "@jupyter-widgets/controls",
          "model_module_version": "1.5.0",
          "model_name": "HTMLModel",
          "state": {
            "_dom_classes": [],
            "_model_module": "@jupyter-widgets/controls",
            "_model_module_version": "1.5.0",
            "_model_name": "HTMLModel",
            "_view_count": null,
            "_view_module": "@jupyter-widgets/controls",
            "_view_module_version": "1.5.0",
            "_view_name": "HTMLView",
            "description": "",
            "description_tooltip": null,
            "layout": "IPY_MODEL_abed41d4a427461fbef4f5f51ed51960",
            "placeholder": "​",
            "style": "IPY_MODEL_765aa3b1dac04f85a598b7bab3ba5041",
            "value": "generation_config.json: 100%"
          }
        },
        "e85fec80ba274171acb405fae0d4f422": {
          "model_module": "@jupyter-widgets/base",
          "model_module_version": "1.2.0",
          "model_name": "LayoutModel",
          "state": {
            "_model_module": "@jupyter-widgets/base",
            "_model_module_version": "1.2.0",
            "_model_name": "LayoutModel",
            "_view_count": null,
            "_view_module": "@jupyter-widgets/base",
            "_view_module_version": "1.2.0",
            "_view_name": "LayoutView",
            "align_content": null,
            "align_items": null,
            "align_self": null,
            "border": null,
            "bottom": null,
            "display": null,
            "flex": null,
            "flex_flow": null,
            "grid_area": null,
            "grid_auto_columns": null,
            "grid_auto_flow": null,
            "grid_auto_rows": null,
            "grid_column": null,
            "grid_gap": null,
            "grid_row": null,
            "grid_template_areas": null,
            "grid_template_columns": null,
            "grid_template_rows": null,
            "height": null,
            "justify_content": null,
            "justify_items": null,
            "left": null,
            "margin": null,
            "max_height": null,
            "max_width": null,
            "min_height": null,
            "min_width": null,
            "object_fit": null,
            "object_position": null,
            "order": null,
            "overflow": null,
            "overflow_x": null,
            "overflow_y": null,
            "padding": null,
            "right": null,
            "top": null,
            "visibility": null,
            "width": null
          }
        },
        "ec5b27a826674241b8a0df68a8f0a6bb": {
          "model_module": "@jupyter-widgets/controls",
          "model_module_version": "1.5.0",
          "model_name": "DescriptionStyleModel",
          "state": {
            "_model_module": "@jupyter-widgets/controls",
            "_model_module_version": "1.5.0",
            "_model_name": "DescriptionStyleModel",
            "_view_count": null,
            "_view_module": "@jupyter-widgets/base",
            "_view_module_version": "1.2.0",
            "_view_name": "StyleView",
            "description_width": ""
          }
        },
        "f63bdd002ecd425f9c8906bd0ae4be9b": {
          "model_module": "@jupyter-widgets/controls",
          "model_module_version": "1.5.0",
          "model_name": "FloatProgressModel",
          "state": {
            "_dom_classes": [],
            "_model_module": "@jupyter-widgets/controls",
            "_model_module_version": "1.5.0",
            "_model_name": "FloatProgressModel",
            "_view_count": null,
            "_view_module": "@jupyter-widgets/controls",
            "_view_module_version": "1.5.0",
            "_view_name": "ProgressView",
            "bar_style": "success",
            "description": "",
            "description_tooltip": null,
            "layout": "IPY_MODEL_6bbfc4ea3b9e4f4e993bd9dec700a783",
            "max": 1133,
            "min": 0,
            "orientation": "horizontal",
            "style": "IPY_MODEL_666700a2d2fe41ffb373703630c4519a",
            "value": 1133
          }
        },
        "fe0edf7b30d34651bfd003f9c70b293e": {
          "model_module": "@jupyter-widgets/controls",
          "model_module_version": "1.5.0",
          "model_name": "DescriptionStyleModel",
          "state": {
            "_model_module": "@jupyter-widgets/controls",
            "_model_module_version": "1.5.0",
            "_model_name": "DescriptionStyleModel",
            "_view_count": null,
            "_view_module": "@jupyter-widgets/base",
            "_view_module_version": "1.2.0",
            "_view_name": "StyleView",
            "description_width": ""
          }
        }
      }
    }
  },
  "nbformat": 4,
  "nbformat_minor": 0
}
