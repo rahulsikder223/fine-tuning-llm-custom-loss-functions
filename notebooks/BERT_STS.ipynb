{
 "cells": [
  {
   "cell_type": "code",
   "execution_count": null,
   "metadata": {
    "id": "Br9jLZQwTWZA",
    "outputId": "87d417a0-dbed-4373-98a2-b5cd85ebddad"
   },
   "outputs": [
    {
     "name": "stdout",
     "output_type": "stream",
     "text": [
      "\u001b[33mDEPRECATION: Loading egg at /usr/local/lib/python3.12/dist-packages/looseversion-1.3.0-py3.12.egg is deprecated. pip 25.1 will enforce this behaviour change. A possible replacement is to use pip for package installation. Discussion can be found at https://github.com/pypa/pip/issues/12330\u001b[0m\u001b[33m\n",
      "\u001b[0m\u001b[33mDEPRECATION: Loading egg at /usr/local/lib/python3.12/dist-packages/lightning_utilities-0.12.0-py3.12.egg is deprecated. pip 25.1 will enforce this behaviour change. A possible replacement is to use pip for package installation. Discussion can be found at https://github.com/pypa/pip/issues/12330\u001b[0m\u001b[33m\n",
      "\u001b[0m\u001b[33mDEPRECATION: Loading egg at /usr/local/lib/python3.12/dist-packages/nvfuser-0.2.25a0+6627725-py3.12-linux-x86_64.egg is deprecated. pip 25.1 will enforce this behaviour change. A possible replacement is to use pip for package installation. Discussion can be found at https://github.com/pypa/pip/issues/12330\u001b[0m\u001b[33m\n",
      "\u001b[0m\u001b[33mDEPRECATION: Loading egg at /usr/local/lib/python3.12/dist-packages/lightning_thunder-0.2.0.dev0-py3.12.egg is deprecated. pip 25.1 will enforce this behaviour change. A possible replacement is to use pip for package installation. Discussion can be found at https://github.com/pypa/pip/issues/12330\u001b[0m\u001b[33m\n",
      "\u001b[0m\u001b[33mDEPRECATION: Loading egg at /usr/local/lib/python3.12/dist-packages/sympy-1.13.1-py3.12.egg is deprecated. pip 25.1 will enforce this behaviour change. A possible replacement is to use pip for package installation. Discussion can be found at https://github.com/pypa/pip/issues/12330\u001b[0m\u001b[33m\n",
      "\u001b[0m\u001b[33mDEPRECATION: Loading egg at /usr/local/lib/python3.12/dist-packages/opt_einsum-3.4.0-py3.12.egg is deprecated. pip 25.1 will enforce this behaviour change. A possible replacement is to use pip for package installation. Discussion can be found at https://github.com/pypa/pip/issues/12330\u001b[0m\u001b[33m\n",
      "\u001b[0m\u001b[33mWARNING: Running pip as the 'root' user can result in broken permissions and conflicting behaviour with the system package manager, possibly rendering your system unusable. It is recommended to use a virtual environment instead: https://pip.pypa.io/warnings/venv. Use the --root-user-action option if you know what you are doing and want to suppress this warning.\u001b[0m\u001b[33m\n",
      "\u001b[0m"
     ]
    }
   ],
   "source": [
    "! pip install -q transformers datasets"
   ]
  },
  {
   "cell_type": "markdown",
   "metadata": {
    "id": "-1Ws9OA1TWZC"
   },
   "source": [
    "# Import Libraries"
   ]
  },
  {
   "cell_type": "code",
   "execution_count": 3,
   "metadata": {
    "id": "SJX0OiiCTWZD",
    "outputId": "df10a2f1-b373-4a65-d0b9-773658406a70"
   },
   "outputs": [
    {
     "name": "stderr",
     "output_type": "stream",
     "text": [
      "/usr/local/lib/python3.12/dist-packages/tqdm/auto.py:21: TqdmWarning: IProgress not found. Please update jupyter and ipywidgets. See https://ipywidgets.readthedocs.io/en/stable/user_install.html\n",
      "  from .autonotebook import tqdm as notebook_tqdm\n"
     ]
    }
   ],
   "source": [
    "import torch\n",
    "import torch.nn.functional as F\n",
    "from torch.utils.data import DataLoader\n",
    "from transformers import AdamW\n",
    "import numpy as np\n",
    "import pandas as pd\n",
    "from datasets import load_dataset\n",
    "from transformers import AutoModel, AutoTokenizer\n",
    "from tqdm import tqdm\n",
    "from scipy.stats import spearmanr"
   ]
  },
  {
   "cell_type": "markdown",
   "metadata": {
    "id": "bNvsKpspTWZD"
   },
   "source": [
    "# Datasets"
   ]
  },
  {
   "cell_type": "code",
   "execution_count": 4,
   "metadata": {
    "id": "NIWAZAmETWZD"
   },
   "outputs": [],
   "source": [
    "def get_sts_dataset(dataset_name, split=0.3):\n",
    "    if dataset_name == 'STS-B':\n",
    "        dataset_name = 'stsbenchmark'\n",
    "    elif dataset_name == 'SICK-R':\n",
    "        dataset_name = 'sickr'\n",
    "    dataset = load_dataset(f'mteb/{dataset_name.lower()}-sts', split='test')\n",
    "    dataset = dataset.rename_column('score', 'labels')\n",
    "    dataset_split = dataset.train_test_split(test_size=split)\n",
    "    train_dataset, test_dataset = dataset_split['train'], dataset_split['test']\n",
    "    return train_dataset, test_dataset\n",
    "\n",
    "sts_datasets = ['STS-B', 'STS12', 'STS13', 'STS14', 'STS15', 'STS16', 'SICK-R']"
   ]
  },
  {
   "cell_type": "code",
   "execution_count": 5,
   "metadata": {
    "id": "wWSLCSR5TWZD"
   },
   "outputs": [],
   "source": [
    "class STSDataset(torch.utils.data.Dataset):\n",
    "    def __init__(self, sentence1, sentence2, label):\n",
    "        self.sentence1 = sentence1\n",
    "        self.sentence2 = sentence2\n",
    "        self.label = label\n",
    "\n",
    "    def __len__(self):\n",
    "        return len(self.label)\n",
    "\n",
    "    def __getitem__(self, idx):\n",
    "        return self.sentence1[idx], self.sentence2[idx], self.label[idx]"
   ]
  },
  {
   "cell_type": "markdown",
   "metadata": {
    "id": "lJLuWWnSTWZE"
   },
   "source": [
    "# Model"
   ]
  },
  {
   "cell_type": "code",
   "execution_count": 6,
   "metadata": {
    "id": "YCQIHWiCTWZE"
   },
   "outputs": [],
   "source": [
    "model_id = 'bert-base-uncased'"
   ]
  },
  {
   "cell_type": "markdown",
   "metadata": {
    "id": "pyRfM4DbTWZE"
   },
   "source": [
    "# Loss Functions"
   ]
  },
  {
   "cell_type": "markdown",
   "metadata": {
    "id": "jMAw90TITWZE"
   },
   "source": [
    "## Embedding Losses"
   ]
  },
  {
   "cell_type": "markdown",
   "metadata": {
    "id": "CC7VP_iGTWZE"
   },
   "source": [
    "#### Cosine Similarity MSE Loss"
   ]
  },
  {
   "cell_type": "markdown",
   "metadata": {
    "id": "PVba-s4OTWZF"
   },
   "source": [
    "##### Normalization"
   ]
  },
  {
   "cell_type": "code",
   "execution_count": 7,
   "metadata": {
    "id": "GJo3oOcVTWZF"
   },
   "outputs": [],
   "source": [
    "def divided_by_maximum(labels):\n",
    "    return labels / torch.max(labels)"
   ]
  },
  {
   "cell_type": "code",
   "execution_count": 8,
   "metadata": {
    "id": "Iu-xaRnCTWZF"
   },
   "outputs": [],
   "source": [
    "def sigmoid(labels):\n",
    "    labels = np.array(labels)\n",
    "    return 1 / (1 + np.exp(-labels))"
   ]
  },
  {
   "cell_type": "code",
   "execution_count": 9,
   "metadata": {
    "id": "Ryvf9625TWZF"
   },
   "outputs": [],
   "source": [
    "def norm_function(norm, labels):\n",
    "    return globals()[norm](labels)"
   ]
  },
  {
   "cell_type": "markdown",
   "metadata": {
    "id": "7F0Y4VpYTWZF"
   },
   "source": [
    "##### Loss"
   ]
  },
  {
   "cell_type": "code",
   "execution_count": 10,
   "metadata": {
    "id": "cx5TsRv7TWZF"
   },
   "outputs": [],
   "source": [
    "def cosine_similarity_mse_loss(embedding1, embedding2, labels):\n",
    "    # Calculating the cosine similarity between the pairs of embeddings...\n",
    "    cos_sim = F.cosine_similarity(embedding1, embedding2)\n",
    "\n",
    "    # MSE loss...\n",
    "    squared_difference = (labels - cos_sim) ** 2\n",
    "    loss = squared_difference.mean()\n",
    "\n",
    "    return loss"
   ]
  },
  {
   "cell_type": "code",
   "execution_count": 11,
   "metadata": {
    "id": "8K_vBnHHTWZG"
   },
   "outputs": [],
   "source": [
    "def cosine_similarity_mse_norm(embedding1, embedding2, labels, norm):\n",
    "    labels_norm = norm_function(norm, labels)\n",
    "    # Calculating the cosine similarity between the pairs of embeddings...\n",
    "    cos_sim = F.cosine_similarity(embedding1, embedding2)\n",
    "\n",
    "    # MSE loss...\n",
    "    squared_difference = (labels_norm - cos_sim) ** 2\n",
    "    loss = squared_difference.mean()\n",
    "\n",
    "    return loss"
   ]
  },
  {
   "cell_type": "markdown",
   "metadata": {
    "id": "F8oCqK16TWZG"
   },
   "source": [
    "#### CoSENT Loss"
   ]
  },
  {
   "cell_type": "code",
   "execution_count": 12,
   "metadata": {
    "id": "lUWM6F_zTWZG"
   },
   "outputs": [],
   "source": [
    "def cosent_loss(embedding1, embedding2, labels, tau=20.0):\n",
    "    # Input preparation...\n",
    "    labels = (labels[:, None] < labels[None, :]).float()\n",
    "\n",
    "    # Normalization of Logits...\n",
    "    embedding1 = F.normalize(embedding1, p=2, dim=1)\n",
    "    embedding2 = F.normalize(embedding2, p=2, dim=1)\n",
    "\n",
    "    # Cosine Similarity Calculation...\n",
    "    # The dot product of these pairs gives the cosine similarity, scaled by a factor of tau to control the sharpness of similarity scores...\n",
    "    y_pred = torch.sum(embedding1 * embedding2, dim=1) * tau\n",
    "\n",
    "    # Pairwise cosine similarity difference calculation...\n",
    "    y_pred = y_pred[:, None] - y_pred[None, :]\n",
    "\n",
    "    y_pred = (y_pred - (1 - labels) * 1e12).view(-1)\n",
    "\n",
    "    zero = torch.Tensor([0]).to(y_pred.device)\n",
    "    y_pred = torch.concat((zero, y_pred), dim=0)\n",
    "    return torch.logsumexp(y_pred, dim=0)"
   ]
  },
  {
   "cell_type": "markdown",
   "metadata": {
    "id": "a8A1nApLTWZG"
   },
   "source": [
    "#### In-Batch Negatives Loss"
   ]
  },
  {
   "cell_type": "code",
   "execution_count": 13,
   "metadata": {
    "id": "e93BLwaJTWZG"
   },
   "outputs": [],
   "source": [
    "def categorical_crossentropy(y_true, y_pred):\n",
    "    return -(F.log_softmax(y_pred, dim=1) * y_true).sum(dim=1)\n",
    "\n",
    "def in_batch_negative_loss(embedding1, embedding2, labels, tau=20.0, negative_weights=0.0):\n",
    "    device = labels.device\n",
    "    y_pred = torch.empty((2 * embedding1.shape[0], embedding1.shape[1]), device=device)\n",
    "    y_pred[0::2] = embedding1\n",
    "    y_pred[1::2] = embedding2\n",
    "    y_true = labels.repeat_interleave(2).unsqueeze(1)\n",
    "\n",
    "    def make_target_matrix(y_true):\n",
    "        idxs = torch.arange(0, y_pred.shape[0]).int().to(device)\n",
    "        y_true = y_true.int()\n",
    "        idxs_1 = idxs[None, :]\n",
    "        idxs_2 = (idxs + 1 - idxs % 2 * 2)[:, None]\n",
    "\n",
    "        idxs_1 *= y_true.T\n",
    "        idxs_1 += (y_true.T == 0).int() * -2\n",
    "\n",
    "        idxs_2 *= y_true\n",
    "        idxs_2 += (y_true == 0).int() * -1\n",
    "\n",
    "        y_true = (idxs_1 == idxs_2).float()\n",
    "        return y_true\n",
    "\n",
    "    neg_mask = make_target_matrix(y_true == 0)\n",
    "\n",
    "    y_true = make_target_matrix(y_true)\n",
    "\n",
    "    y_pred = F.normalize(y_pred, dim=1, p=2)\n",
    "    similarities = y_pred @ y_pred.T\n",
    "    similarities = similarities - torch.eye(y_pred.shape[0]).to(device) * 1e12\n",
    "    similarities = similarities * tau\n",
    "\n",
    "    if negative_weights > 0:\n",
    "        similarities += neg_mask * negative_weights\n",
    "\n",
    "    return categorical_crossentropy(y_true, similarities).mean()"
   ]
  },
  {
   "cell_type": "markdown",
   "metadata": {
    "id": "loAE12YJTWZG"
   },
   "source": [
    "#### Angle Loss"
   ]
  },
  {
   "cell_type": "code",
   "execution_count": 14,
   "metadata": {
    "id": "ShwMOPoQTWZG"
   },
   "outputs": [],
   "source": [
    "def angle_loss(embedding1, embedding2, labels, tau=1.0):\n",
    "    # Input preparation...\n",
    "    labels = (labels[:, None] < labels[None, :]).float()\n",
    "\n",
    "    # Chunking into real and imaginary parts...\n",
    "    y_pred_re1, y_pred_im1 = torch.chunk(embedding1, 2, dim=1)\n",
    "    y_pred_re2, y_pred_im2 = torch.chunk(embedding2, 2, dim=1)\n",
    "\n",
    "    a = y_pred_re1\n",
    "    b = y_pred_im1\n",
    "    c = y_pred_re2\n",
    "    d = y_pred_im2\n",
    "\n",
    "    z = torch.sum(c**2 + d**2, dim=1, keepdim=True)\n",
    "    re = (a * c + b * d) / z\n",
    "    im = (b * c - a * d) / z\n",
    "\n",
    "    dz = torch.sum(a**2 + b**2, dim=1, keepdim=True)**0.5\n",
    "    dw = torch.sum(c**2 + d**2, dim=1, keepdim=True)**0.5\n",
    "    re /= (dz / dw)\n",
    "    im /= (dz / dw)\n",
    "\n",
    "    y_pred = torch.concat((re, im), dim=1)\n",
    "    y_pred = torch.abs(torch.sum(y_pred, dim=1)) * tau\n",
    "    y_pred = y_pred[:, None] - y_pred[None, :]\n",
    "    y_pred = (y_pred - (1 - labels) * 1e12).view(-1)\n",
    "    zero = torch.Tensor([0]).to(y_pred.device)\n",
    "    y_pred = torch.concat((zero, y_pred), dim=0)\n",
    "    return torch.logsumexp(y_pred, dim=0)"
   ]
  },
  {
   "cell_type": "markdown",
   "metadata": {
    "id": "uCGxwWFSTWZH"
   },
   "source": [
    "#### Combination of CoSENT, In-Batch Negatives and Angle Losses"
   ]
  },
  {
   "cell_type": "code",
   "execution_count": 15,
   "metadata": {
    "id": "hFW0rf1JTWZH"
   },
   "outputs": [],
   "source": [
    "def cosent_ibn_angle(embedding1, embedding2, labels, w_cosent=1, w_ibn=1, w_angle=1, tau_cosent=20.0, tau_ibn=20.0, tau_angle=1.0):\n",
    "    return w_cosent * cosent_loss(embedding1, embedding2, labels, tau_cosent) + w_ibn * in_batch_negative_loss(embedding1, embedding2, labels, tau_ibn) + w_angle * angle_loss(embedding1, embedding2, labels, tau_angle)"
   ]
  },
  {
   "cell_type": "markdown",
   "metadata": {
    "id": "1e-a9tbZTWZH"
   },
   "source": [
    "## Loss List"
   ]
  },
  {
   "cell_type": "code",
   "execution_count": null,
   "metadata": {
    "id": "R6vubeVQTWZH"
   },
   "outputs": [],
   "source": [
    "losses = [\n",
    "    {'loss_name': 'without_ft', 'loss_type': 'emb', 'loss_kwargs': {}},\n",
    "    {'loss_name': 'cosine_similarity_mse_loss', 'loss_type': 'emb', 'loss_kwargs': {}},\n",
    "    {'loss_name': 'cosine_similarity_mse_norm', 'loss_type': 'emb', 'loss_kwargs': {'norm': 'divided_by_maximum'}},\n",
    "    {'loss_name': 'cosent_loss', 'loss_type': 'emb', 'loss_kwargs': {'tau': 20.0}},\n",
    "    {'loss_name': 'in_batch_negative_loss', 'loss_type': 'emb', 'loss_kwargs': {'tau': 20.0}},\n",
    "    {'loss_name': 'angle_loss', 'loss_type': 'emb', 'loss_kwargs': {'tau': 1.0}},\n",
    "    {'loss_name': 'cosent_ibn_angle', 'loss_type': 'emb', 'loss_kwargs': {'w_cosent': 1, 'w_ibn': 1, 'w_angle': 1, 'tau_cosent': 20.0, 'tau_ibn': 20.0, 'tau_angle': 1.0}}\n",
    "]"
   ]
  },
  {
   "cell_type": "markdown",
   "metadata": {
    "id": "BVtCYIRVTWZH"
   },
   "source": [
    "# Training"
   ]
  },
  {
   "cell_type": "markdown",
   "metadata": {
    "id": "PyFCVsIjTWZH"
   },
   "source": [
    "### Training Preparation"
   ]
  },
  {
   "cell_type": "markdown",
   "metadata": {
    "id": "8saXvlcGTWZH"
   },
   "source": [
    "#### Device Setting"
   ]
  },
  {
   "cell_type": "code",
   "execution_count": 18,
   "metadata": {
    "id": "Dya3gx9cTWZH"
   },
   "outputs": [],
   "source": [
    "device = torch.device('cuda') if torch.cuda.is_available() else torch.device('cpu')"
   ]
  },
  {
   "cell_type": "markdown",
   "metadata": {
    "id": "TsuVWiNFTWZI"
   },
   "source": [
    "#### Dataset Preparation"
   ]
  },
  {
   "cell_type": "code",
   "execution_count": 20,
   "metadata": {
    "id": "tH94Uw8yTWZI"
   },
   "outputs": [],
   "source": [
    "def prepare_dataset(dataset):\n",
    "    # Dataset Import...\n",
    "    ds = get_sts_dataset(dataset)\n",
    "\n",
    "    # Random Split...\n",
    "    train_test_split = ds.train_test_split(test_size=0.30)\n",
    "    train_dataset = train_test_split['train']\n",
    "    test_dataset = train_test_split['test']\n",
    "    return train_dataset, test_dataset"
   ]
  },
  {
   "cell_type": "markdown",
   "metadata": {
    "id": "qGBK4yTBTWZI"
   },
   "source": [
    "#### Model and Tokenizer Preparation"
   ]
  },
  {
   "cell_type": "code",
   "execution_count": 21,
   "metadata": {
    "id": "ZFVnreUcTWZI"
   },
   "outputs": [],
   "source": [
    "def get_model_tokenizer(model_id):\n",
    "    model = AutoModel.from_pretrained(model_id)\n",
    "    tokenizer = AutoTokenizer.from_pretrained(model_id)\n",
    "    model.to(device)\n",
    "    return model, tokenizer"
   ]
  },
  {
   "cell_type": "markdown",
   "metadata": {
    "id": "oS5g0GNxTWZM"
   },
   "source": [
    "#### Embedding Extraction"
   ]
  },
  {
   "cell_type": "code",
   "execution_count": 22,
   "metadata": {
    "id": "sJLVSaouTWZM"
   },
   "outputs": [],
   "source": [
    "def extract_embeddings(model, tokenizer, device, sentences, to_numpy=False):\n",
    "    encodings = tokenizer(sentences, return_tensors='pt', padding=True, truncation=True).to(device)\n",
    "    # [CLS] token embedding...\n",
    "    embeddings = model(**encodings).last_hidden_state[:, 0, :]\n",
    "\n",
    "    if to_numpy:\n",
    "        embeddings = embeddings.cpu().detach().numpy()\n",
    "    return embeddings"
   ]
  },
  {
   "cell_type": "markdown",
   "metadata": {
    "id": "hui_2sl7TWZM"
   },
   "source": [
    "#### Train Driver"
   ]
  },
  {
   "cell_type": "code",
   "execution_count": 23,
   "metadata": {
    "id": "t7FaVJd2TWZM"
   },
   "outputs": [],
   "source": [
    "def train(model, tokenizer, dataset, batch_size, epochs=10, loss_name='cosine_similarity_mse_loss', **loss_kwargs):\n",
    "    # Optimizer setting...\n",
    "    optimizer = AdamW(model.parameters(), lr=5e-5)\n",
    "\n",
    "    # Training loop...\n",
    "    num_epochs = epochs\n",
    "    model.train()\n",
    "    for epoch in range(num_epochs):\n",
    "        # print(f\"Epoch {epoch + 1}/{num_epochs}\")\n",
    "        data_loader = DataLoader(STSDataset(dataset['sentence1'], dataset['sentence2'], dataset['labels']), batch_size=batch_size, shuffle=True)\n",
    "\n",
    "        for sentence1_texts, sentence2_texts, labels in tqdm(data_loader, desc=\"Training\", leave=False):\n",
    "            labels = labels.to(device)\n",
    "\n",
    "            # [CLS] token embedding...\n",
    "            sentence1_embeddings = extract_embeddings(model, tokenizer, device, sentence1_texts)\n",
    "            sentence2_embeddings = extract_embeddings(model, tokenizer, device, sentence2_texts)\n",
    "\n",
    "            # Embedding Loss...\n",
    "            loss = globals()[loss_name](sentence1_embeddings, sentence2_embeddings, labels, **loss_kwargs)\n",
    "            if loss == 0.0:\n",
    "                continue\n",
    "\n",
    "            # Backpropagation...\n",
    "            loss.backward()\n",
    "\n",
    "            # Updating weights...\n",
    "            optimizer.step()\n",
    "            optimizer.zero_grad()\n",
    "    return model"
   ]
  },
  {
   "cell_type": "markdown",
   "metadata": {
    "id": "GfDurJp-TWZM"
   },
   "source": [
    "#### Evaluation Driver"
   ]
  },
  {
   "cell_type": "code",
   "execution_count": 24,
   "metadata": {
    "id": "OLcBoM1-TWZN"
   },
   "outputs": [],
   "source": [
    "def calculate_cosine_similarity(embeddings_1, embeddings_2):\n",
    "    cosine_similarity = F.cosine_similarity(embeddings_1, embeddings_2, dim=1)\n",
    "    return cosine_similarity"
   ]
  },
  {
   "cell_type": "code",
   "execution_count": 25,
   "metadata": {
    "id": "_RRjAFwNTWZN"
   },
   "outputs": [],
   "source": [
    "def calculate_Spearman_rank_correlation_coefficient(scores, scores_actual):\n",
    "    sc, _ = spearmanr(scores, scores_actual)\n",
    "    return sc"
   ]
  },
  {
   "cell_type": "code",
   "execution_count": 26,
   "metadata": {
    "id": "HrjYsEYmTWZN"
   },
   "outputs": [],
   "source": [
    "def evaluate_sts(model, tokenizer, test_dataset, batch_size):\n",
    "    model.eval()\n",
    "\n",
    "    test_dataset = STSDataset(test_dataset['sentence1'], test_dataset['sentence2'], test_dataset['labels'])\n",
    "    data_loader = DataLoader(test_dataset, batch_size=batch_size)\n",
    "    all_embeddings1 = []\n",
    "    all_embeddings2 = []\n",
    "    all_labels = []\n",
    "\n",
    "    with torch.no_grad():\n",
    "        for sentences1, sentences2, labels in tqdm(data_loader, desc=\"Extracting embeddings\", leave=False):\n",
    "            embeddings1 = extract_embeddings(model, tokenizer, device, sentences1)\n",
    "            embeddings2 = extract_embeddings(model, tokenizer, device, sentences2)\n",
    "            all_embeddings1.append(embeddings1.cpu())\n",
    "            all_embeddings2.append(embeddings2.cpu())\n",
    "            all_labels.append(labels.cpu())\n",
    "\n",
    "    data_embeddings1 = torch.cat(all_embeddings1)\n",
    "    data_embeddings2 = torch.cat(all_embeddings2)\n",
    "    data_labels = torch.cat(all_labels)\n",
    "    data_labels_np = data_labels.numpy()\n",
    "\n",
    "    cosine_similarities = calculate_cosine_similarity(data_embeddings1, data_embeddings2)\n",
    "    spearman = calculate_Spearman_rank_correlation_coefficient(cosine_similarities, data_labels_np)\n",
    "    return spearman"
   ]
  },
  {
   "cell_type": "markdown",
   "metadata": {
    "id": "XIZuWngbTWZN"
   },
   "source": [
    "### Loop"
   ]
  },
  {
   "cell_type": "code",
   "execution_count": 27,
   "metadata": {
    "id": "rP-BANKlTWZN",
    "outputId": "ef0db743-9573-49a3-9a63-e5ed05dc59f2"
   },
   "outputs": [
    {
     "name": "stdout",
     "output_type": "stream",
     "text": [
      "Running: without_ft on STS-B\n"
     ]
    },
    {
     "name": "stderr",
     "output_type": "stream",
     "text": [
      "Generating train split: 100%|██████████| 5749/5749 [00:00<00:00, 213172.91 examples/s]\n",
      "Generating validation split: 100%|██████████| 1500/1500 [00:00<00:00, 292530.62 examples/s]\n",
      "Generating test split: 100%|██████████| 1379/1379 [00:00<00:00, 353196.46 examples/s]\n",
      "                                                                    \r"
     ]
    },
    {
     "name": "stdout",
     "output_type": "stream",
     "text": [
      "Running: without_ft on STS12\n"
     ]
    },
    {
     "name": "stderr",
     "output_type": "stream",
     "text": [
      "Generating train split: 100%|██████████| 2234/2234 [00:00<00:00, 481430.16 examples/s]\n",
      "Generating test split: 100%|██████████| 3108/3108 [00:00<00:00, 672646.90 examples/s]\n",
      "                                                                      \r"
     ]
    },
    {
     "name": "stdout",
     "output_type": "stream",
     "text": [
      "Running: without_ft on STS13\n"
     ]
    },
    {
     "name": "stderr",
     "output_type": "stream",
     "text": [
      "Generating test split: 100%|██████████| 1500/1500 [00:00<00:00, 393905.33 examples/s]\n",
      "                                                                    \r"
     ]
    },
    {
     "name": "stdout",
     "output_type": "stream",
     "text": [
      "Running: without_ft on STS14\n"
     ]
    },
    {
     "name": "stderr",
     "output_type": "stream",
     "text": [
      "Generating test split: 100%|██████████| 3750/3750 [00:00<00:00, 723455.22 examples/s]\n",
      "                                                                      \r"
     ]
    },
    {
     "name": "stdout",
     "output_type": "stream",
     "text": [
      "Running: without_ft on STS15\n"
     ]
    },
    {
     "name": "stderr",
     "output_type": "stream",
     "text": [
      "Generating test split: 100%|██████████| 3000/3000 [00:00<00:00, 630754.02 examples/s]\n",
      "                                                                      \r"
     ]
    },
    {
     "name": "stdout",
     "output_type": "stream",
     "text": [
      "Running: without_ft on STS16\n"
     ]
    },
    {
     "name": "stderr",
     "output_type": "stream",
     "text": [
      "Generating test split: 100%|██████████| 1186/1186 [00:00<00:00, 298245.97 examples/s]\n",
      "                                                                    \r"
     ]
    },
    {
     "name": "stdout",
     "output_type": "stream",
     "text": [
      "Running: without_ft on SICK-R\n"
     ]
    },
    {
     "name": "stderr",
     "output_type": "stream",
     "text": [
      "Generating test split: 100%|██████████| 9927/9927 [00:00<00:00, 1442018.97 examples/s]\n",
      "                                                                      \r"
     ]
    },
    {
     "name": "stdout",
     "output_type": "stream",
     "text": [
      "Running: cosent_ibn_angle on STS-B\n"
     ]
    },
    {
     "name": "stderr",
     "output_type": "stream",
     "text": [
      "/usr/local/lib/python3.12/dist-packages/transformers/optimization.py:640: FutureWarning: This implementation of AdamW is deprecated and will be removed in a future version. Use the PyTorch implementation torch.optim.AdamW instead, or set `no_deprecation_warning=True` to disable this warning\n",
      "  warnings.warn(\n",
      "                                                                    \r"
     ]
    },
    {
     "name": "stdout",
     "output_type": "stream",
     "text": [
      "Running: cosent_ibn_angle on STS12\n"
     ]
    },
    {
     "name": "stderr",
     "output_type": "stream",
     "text": [
      "                                                                      \r"
     ]
    },
    {
     "name": "stdout",
     "output_type": "stream",
     "text": [
      "Running: cosent_ibn_angle on STS13\n"
     ]
    },
    {
     "name": "stderr",
     "output_type": "stream",
     "text": [
      "                                                                    \r"
     ]
    },
    {
     "name": "stdout",
     "output_type": "stream",
     "text": [
      "Running: cosent_ibn_angle on STS14\n"
     ]
    },
    {
     "name": "stderr",
     "output_type": "stream",
     "text": [
      "                                                                      \r"
     ]
    },
    {
     "name": "stdout",
     "output_type": "stream",
     "text": [
      "Running: cosent_ibn_angle on STS15\n"
     ]
    },
    {
     "name": "stderr",
     "output_type": "stream",
     "text": [
      "                                                                      \r"
     ]
    },
    {
     "name": "stdout",
     "output_type": "stream",
     "text": [
      "Running: cosent_ibn_angle on STS16\n"
     ]
    },
    {
     "name": "stderr",
     "output_type": "stream",
     "text": [
      "                                                                    \r"
     ]
    },
    {
     "name": "stdout",
     "output_type": "stream",
     "text": [
      "Running: cosent_ibn_angle on SICK-R\n"
     ]
    },
    {
     "name": "stderr",
     "output_type": "stream",
     "text": [
      "                                                                      \r"
     ]
    }
   ],
   "source": [
    "total_runs = 3\n",
    "batch_size = 60\n",
    "spearman_list = []\n",
    "for loss in losses:\n",
    "    loss_name = loss['loss_name']\n",
    "    loss_type = loss['loss_type']\n",
    "    loss_kwargs = loss['loss_kwargs']\n",
    "\n",
    "    for dataset in sts_datasets:\n",
    "        print(f'Running: {loss_name} on {dataset}')\n",
    "        total_spearman = 0.\n",
    "\n",
    "        for loop_count in range(0, total_runs):\n",
    "            # Dataset Preparation...\n",
    "            train_dataset, test_dataset = get_sts_dataset(dataset)\n",
    "\n",
    "            # Model Preparation...\n",
    "            model, tokenizer = get_model_tokenizer(model_id)\n",
    "\n",
    "            # Training Loop...\n",
    "            if loss_name != 'without_ft':\n",
    "                model = train(model, tokenizer, train_dataset, batch_size, epochs=5, loss_name=loss_name, **loss_kwargs)\n",
    "\n",
    "            # Evaluation loop...\n",
    "            spearman = evaluate_sts(model, tokenizer, test_dataset, batch_size)\n",
    "            # print(f'Loop {loop_count} spearman - {spearman}')\n",
    "            total_spearman += spearman\n",
    "        spearman_list.append({'loss': loss_name, 'dataset': dataset, 'spearman': total_spearman / total_runs})"
   ]
  },
  {
   "cell_type": "code",
   "execution_count": 28,
   "metadata": {},
   "outputs": [
    {
     "data": {
      "text/plain": [
       "[{'loss': 'without_ft', 'dataset': 'STS-B', 'spearman': 0.26643627551205923},\n",
       " {'loss': 'without_ft', 'dataset': 'STS12', 'spearman': 0.2420585603055578},\n",
       " {'loss': 'without_ft', 'dataset': 'STS13', 'spearman': 0.3438723953590479},\n",
       " {'loss': 'without_ft', 'dataset': 'STS14', 'spearman': 0.19262198854266815},\n",
       " {'loss': 'without_ft', 'dataset': 'STS15', 'spearman': 0.36896620968589905},\n",
       " {'loss': 'without_ft', 'dataset': 'STS16', 'spearman': 0.40072446843573833},\n",
       " {'loss': 'without_ft', 'dataset': 'SICK-R', 'spearman': 0.4221451404383869},\n",
       " {'loss': 'cosent_ibn_angle',\n",
       "  'dataset': 'STS-B',\n",
       "  'spearman': 0.8088552574843441},\n",
       " {'loss': 'cosent_ibn_angle',\n",
       "  'dataset': 'STS12',\n",
       "  'spearman': 0.8095812061620951},\n",
       " {'loss': 'cosent_ibn_angle',\n",
       "  'dataset': 'STS13',\n",
       "  'spearman': 0.8428907284097938},\n",
       " {'loss': 'cosent_ibn_angle',\n",
       "  'dataset': 'STS14',\n",
       "  'spearman': 0.8231900385888695},\n",
       " {'loss': 'cosent_ibn_angle',\n",
       "  'dataset': 'STS15',\n",
       "  'spearman': 0.888469043734321},\n",
       " {'loss': 'cosent_ibn_angle',\n",
       "  'dataset': 'STS16',\n",
       "  'spearman': 0.81307080210179},\n",
       " {'loss': 'cosent_ibn_angle',\n",
       "  'dataset': 'SICK-R',\n",
       "  'spearman': 0.8160903617015763}]"
      ]
     },
     "execution_count": 28,
     "metadata": {},
     "output_type": "execute_result"
    }
   ],
   "source": [
    "spearman_list"
   ]
  }
 ],
 "metadata": {
  "colab": {
   "collapsed_sections": [
    "iIcY1FB3TWZB",
    "-1Ws9OA1TWZC",
    "bNvsKpspTWZD",
    "lJLuWWnSTWZE",
    "pyRfM4DbTWZE",
    "jMAw90TITWZE",
    "CC7VP_iGTWZE",
    "PVba-s4OTWZF",
    "7F0Y4VpYTWZF",
    "F8oCqK16TWZG",
    "a8A1nApLTWZG",
    "loAE12YJTWZG",
    "uCGxwWFSTWZH",
    "1e-a9tbZTWZH",
    "BVtCYIRVTWZH",
    "PyFCVsIjTWZH",
    "8saXvlcGTWZH",
    "TsuVWiNFTWZI",
    "qGBK4yTBTWZI",
    "oS5g0GNxTWZM",
    "hui_2sl7TWZM",
    "GfDurJp-TWZM",
    "XIZuWngbTWZN",
    "e288KhgZTWZO"
   ],
   "provenance": []
  },
  "kernelspec": {
   "display_name": "Python 3",
   "language": "python",
   "name": "python3"
  },
  "language_info": {
   "codemirror_mode": {
    "name": "ipython",
    "version": 3
   },
   "file_extension": ".py",
   "mimetype": "text/x-python",
   "name": "python",
   "nbconvert_exporter": "python",
   "pygments_lexer": "ipython3",
   "version": "3.12.3"
  }
 },
 "nbformat": 4,
 "nbformat_minor": 0
}
