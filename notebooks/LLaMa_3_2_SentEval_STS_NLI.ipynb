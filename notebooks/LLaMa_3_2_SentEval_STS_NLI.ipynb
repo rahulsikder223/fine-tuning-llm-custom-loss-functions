{
  "cells": [
    {
      "cell_type": "code",
      "execution_count": 2,
      "metadata": {
        "colab": {
          "base_uri": "https://localhost:8080/"
        },
        "id": "tM60QGoNymRe",
        "outputId": "9b830d42-443b-439b-92d6-1ad532ce277e"
      },
      "outputs": [
        {
          "name": "stdout",
          "output_type": "stream",
          "text": [
            "\u001b[?25l   \u001b[90m━━━━━━━━━━━━━━━━━━━━━━━━━━━━━━━━━━━━━━━━\u001b[0m \u001b[32m0.0/480.6 kB\u001b[0m \u001b[31m?\u001b[0m eta \u001b[36m-:--:--\u001b[0m\r\u001b[2K   \u001b[90m━━━━━━━━━━━━━━━━━━━━━━━━━━━━━━━━━━━━━━━━\u001b[0m \u001b[32m480.6/480.6 kB\u001b[0m \u001b[31m22.8 MB/s\u001b[0m eta \u001b[36m0:00:00\u001b[0m\n",
            "\u001b[?25h\u001b[?25l   \u001b[90m━━━━━━━━━━━━━━━━━━━━━━━━━━━━━━━━━━━━━━━━\u001b[0m \u001b[32m0.0/116.3 kB\u001b[0m \u001b[31m?\u001b[0m eta \u001b[36m-:--:--\u001b[0m\r\u001b[2K   \u001b[90m━━━━━━━━━━━━━━━━━━━━━━━━━━━━━━━━━━━━━━━━\u001b[0m \u001b[32m116.3/116.3 kB\u001b[0m \u001b[31m7.9 MB/s\u001b[0m eta \u001b[36m0:00:00\u001b[0m\n",
            "\u001b[?25h\u001b[?25l   \u001b[90m━━━━━━━━━━━━━━━━━━━━━━━━━━━━━━━━━━━━━━━━\u001b[0m \u001b[32m0.0/179.3 kB\u001b[0m \u001b[31m?\u001b[0m eta \u001b[36m-:--:--\u001b[0m\r\u001b[2K   \u001b[90m━━━━━━━━━━━━━━━━━━━━━━━━━━━━━━━━━━━━━━━━\u001b[0m \u001b[32m179.3/179.3 kB\u001b[0m \u001b[31m13.3 MB/s\u001b[0m eta \u001b[36m0:00:00\u001b[0m\n",
            "\u001b[?25h\u001b[?25l   \u001b[90m━━━━━━━━━━━━━━━━━━━━━━━━━━━━━━━━━━━━━━━━\u001b[0m \u001b[32m0.0/134.8 kB\u001b[0m \u001b[31m?\u001b[0m eta \u001b[36m-:--:--\u001b[0m\r\u001b[2K   \u001b[90m━━━━━━━━━━━━━━━━━━━━━━━━━━━━━━━━━━━━━━━━\u001b[0m \u001b[32m134.8/134.8 kB\u001b[0m \u001b[31m12.2 MB/s\u001b[0m eta \u001b[36m0:00:00\u001b[0m\n",
            "\u001b[?25h\u001b[?25l   \u001b[90m━━━━━━━━━━━━━━━━━━━━━━━━━━━━━━━━━━━━━━━━\u001b[0m \u001b[32m0.0/194.1 kB\u001b[0m \u001b[31m?\u001b[0m eta \u001b[36m-:--:--\u001b[0m\r\u001b[2K   \u001b[90m━━━━━━━━━━━━━━━━━━━━━━━━━━━━━━━━━━━━━━━━\u001b[0m \u001b[32m194.1/194.1 kB\u001b[0m \u001b[31m12.9 MB/s\u001b[0m eta \u001b[36m0:00:00\u001b[0m\n",
            "\u001b[?25h\u001b[31mERROR: pip's dependency resolver does not currently take into account all the packages that are installed. This behaviour is the source of the following dependency conflicts.\n",
            "gcsfs 2024.10.0 requires fsspec==2024.10.0, but you have fsspec 2024.9.0 which is incompatible.\u001b[0m\u001b[31m\n",
            "\u001b[0m"
          ]
        }
      ],
      "source": [
        "! pip install -q datasets"
      ]
    },
    {
      "cell_type": "markdown",
      "metadata": {
        "id": "_4tXqhaEymRh"
      },
      "source": [
        "# Import Libraries"
      ]
    },
    {
      "cell_type": "code",
      "execution_count": 1,
      "metadata": {
        "id": "phqTdlepymRh"
      },
      "outputs": [],
      "source": [
        "import torch\n",
        "import torch.nn as nn\n",
        "import torch.nn.functional as F\n",
        "from torch.utils.data import DataLoader\n",
        "from transformers import AdamW\n",
        "import numpy as np\n",
        "import pandas as pd\n",
        "from datasets import load_dataset, concatenate_datasets, Dataset\n",
        "from tqdm import tqdm\n",
        "from sklearn.linear_model import LogisticRegression\n",
        "from sklearn.metrics import accuracy_score\n",
        "from sklearn.model_selection import train_test_split\n",
        "from scipy.stats import spearmanr\n",
        "from transformers import AutoModelForSequenceClassification, AutoTokenizer, AutoModelForCausalLM, DataCollatorWithPadding, AdamW\n",
        "from huggingface_hub import login\n",
        "from peft import LoraConfig, get_peft_model, TaskType"
      ]
    },
    {
      "cell_type": "markdown",
      "metadata": {
        "id": "qsHBmkseymRi"
      },
      "source": [
        "# Datasets"
      ]
    },
    {
      "cell_type": "code",
      "execution_count": 2,
      "metadata": {
        "id": "wDoyPx2gymRi"
      },
      "outputs": [],
      "source": [
        "def select_n_nli(nli_dataset, n):\n",
        "    positive_samples = nli_dataset.filter(lambda example: example['labels'] == 1)\n",
        "    negative_samples = nli_dataset.filter(lambda example: example['labels'] == 0)\n",
        "    positive_samples = positive_samples.shuffle(seed=42).select(range(int(n / 2)))\n",
        "    negative_samples = negative_samples.shuffle(seed=42).select(range(int(n / 2)))\n",
        "    balanced_dataset = concatenate_datasets([positive_samples, negative_samples]).shuffle(seed=42)\n",
        "    return balanced_dataset"
      ]
    },
    {
      "cell_type": "code",
      "execution_count": 3,
      "metadata": {
        "id": "T11ecqayymRi"
      },
      "outputs": [],
      "source": [
        "def get_nli_dataset(n=10000, type='pair', exclude_neutral=True):\n",
        "    if type == 'pair' or type == 'clf':\n",
        "        dataset = load_dataset('sentence-transformers/all-nli', 'pair-class')\n",
        "\n",
        "        # Mapping the labels in such a way so that contradiction is the least similar and entailment is the most similar...\n",
        "        label_mapping = {\n",
        "            0: 'contradiction',\n",
        "            2: 'neutral',\n",
        "            1: 'entailment'\n",
        "        }\n",
        "\n",
        "        def map_labels(example):\n",
        "            example[\"label\"] = label_mapping[example[\"label\"]]\n",
        "            return example\n",
        "\n",
        "        dataset = dataset.map(map_labels)\n",
        "        if exclude_neutral:\n",
        "            dataset = dataset.filter(lambda example: example['label'] != 2)\n",
        "        dataset = dataset.rename_column('label', 'labels')\n",
        "        return dataset['train'] if n is None else select_n_nli(dataset['train'], n)\n",
        "    elif type == 'triplet':\n",
        "        dataset = load_dataset('sentence-transformers/all-nli', 'triplet')\n",
        "        return dataset['train'] if n is None else dataset['train'].select(range(n))"
      ]
    },
    {
      "cell_type": "code",
      "execution_count": 4,
      "metadata": {
        "id": "04N8WpBrymRi"
      },
      "outputs": [],
      "source": [
        "class NLIPairDataset(torch.utils.data.Dataset):\n",
        "    def __init__(self, premises, hypotheses, labels):\n",
        "        self.premises = premises\n",
        "        self.hypotheses = hypotheses\n",
        "        self.labels = labels\n",
        "\n",
        "    def __len__(self):\n",
        "        return len(self.labels)\n",
        "\n",
        "    def __getitem__(self, idx):\n",
        "        return self.premises[idx], self.hypotheses[idx], self.labels[idx]"
      ]
    },
    {
      "cell_type": "code",
      "execution_count": 5,
      "metadata": {
        "id": "UwARSBSUymRi"
      },
      "outputs": [],
      "source": [
        "class NLITripletDataset(torch.utils.data.Dataset):\n",
        "    def __init__(self, anchor, positive, negative):\n",
        "        self.anchor = anchor\n",
        "        self.positive = positive\n",
        "        self.negative = negative\n",
        "\n",
        "    def __len__(self):\n",
        "        return len(self.anchor)\n",
        "\n",
        "    def __getitem__(self, idx):\n",
        "        return self.anchor[idx], self.positive[idx], self.negative[idx]"
      ]
    },
    {
      "cell_type": "code",
      "execution_count": 37,
      "metadata": {
        "id": "kk7WIWiLymRj"
      },
      "outputs": [],
      "source": [
        "def get_senteval_dataset(dataset_name):\n",
        "    dataset = load_dataset(f'rahulsikder223/SentEval-{dataset_name}')\n",
        "    concatenated_dataset = concatenate_datasets([dataset['train'], dataset['test']])\n",
        "    concatenated_dataset = concatenated_dataset.rename_column(\"label\", \"labels\")\n",
        "    return concatenated_dataset\n",
        "\n",
        "senteval_datasets = ['CR', 'MPQA', 'MR', 'SUBJ']"
      ]
    },
    {
      "cell_type": "code",
      "execution_count": 38,
      "metadata": {
        "id": "IJO3-vJEymRj"
      },
      "outputs": [],
      "source": [
        "def get_sts_dataset(dataset_name):\n",
        "    if dataset_name == 'STS-B':\n",
        "        dataset_name = 'stsbenchmark'\n",
        "    elif dataset_name == 'SICK-R':\n",
        "        dataset_name = 'sickr'\n",
        "    dataset = load_dataset(f'mteb/{dataset_name.lower()}-sts', split='test')\n",
        "    dataset = dataset.rename_column('score', 'labels')\n",
        "    return dataset\n",
        "\n",
        "sts_datasets = ['STS-B', 'STS12', 'STS13', 'STS14', 'STS15', 'STS16', 'SICK-R']"
      ]
    },
    {
      "cell_type": "markdown",
      "metadata": {
        "id": "klGahmSRymRj"
      },
      "source": [
        "# Model"
      ]
    },
    {
      "cell_type": "code",
      "execution_count": 8,
      "metadata": {
        "id": "pM26axUZymRj"
      },
      "outputs": [],
      "source": [
        "login(token=\"<your token here>\")\n",
        "model_id = 'meta-llama/Llama-3.2-1B'"
      ]
    },
    {
      "cell_type": "markdown",
      "metadata": {
        "id": "d5crLs37ymRj"
      },
      "source": [
        "# Loss Functions"
      ]
    },
    {
      "cell_type": "markdown",
      "metadata": {
        "id": "TwwQLxODymRj"
      },
      "source": [
        "## Classification Losses - Single sentence column and sentiment label"
      ]
    },
    {
      "cell_type": "markdown",
      "metadata": {
        "id": "mgoQluwpymRj"
      },
      "source": [
        "### Cross-Entropy Loss"
      ]
    },
    {
      "cell_type": "code",
      "execution_count": 9,
      "metadata": {
        "id": "iAAxPckZymRk"
      },
      "outputs": [],
      "source": [
        "def cross_entropy_loss(logits, labels):\n",
        "    return nn.CrossEntropyLoss()(logits, labels)"
      ]
    },
    {
      "cell_type": "markdown",
      "metadata": {
        "id": "IeWSygptymRk"
      },
      "source": [
        "### Label Smoothing Cross-Entropy Loss"
      ]
    },
    {
      "cell_type": "code",
      "execution_count": 10,
      "metadata": {
        "id": "9BkWUQ3gymRk"
      },
      "outputs": [],
      "source": [
        "def label_smoothing_cross_entropy_loss(logits, labels, smoothing=0.1):\n",
        "    confidence = 1.0 - smoothing\n",
        "    log_probs = F.log_softmax(logits, dim=-1)\n",
        "\n",
        "    # Initializing true distribution with smoothing value for all classes...\n",
        "    true_dist = torch.full_like(log_probs, smoothing / (log_probs.size(1) - 1))\n",
        "    # Setting the true label confidence in the correct class...\n",
        "    true_dist.scatter_(1, labels.unsqueeze(1), confidence)\n",
        "\n",
        "    loss = torch.mean(torch.sum(-true_dist * log_probs, dim=-1))\n",
        "    return loss"
      ]
    },
    {
      "cell_type": "markdown",
      "metadata": {
        "id": "Gaox62_6ymRk"
      },
      "source": [
        "## Embedding Losses"
      ]
    },
    {
      "cell_type": "markdown",
      "metadata": {
        "id": "0x6Nb9cVymRk"
      },
      "source": [
        "### Triplets - Anchor, Positive and Negative sentences (3 sentence columns) and label"
      ]
    },
    {
      "cell_type": "markdown",
      "metadata": {
        "id": "aFjP0KW3ymRk"
      },
      "source": [
        "#### Triplet Loss"
      ]
    },
    {
      "cell_type": "code",
      "execution_count": 11,
      "metadata": {
        "id": "E6-7LkR-ymRk"
      },
      "outputs": [],
      "source": [
        "def triplet_loss(anchors, positives, negatives, margin=1.0):\n",
        "    if anchors is None or positives is None or negatives is None:\n",
        "        return 0.0\n",
        "\n",
        "    # Euclidean distance between anchor and positive, and anchor and negative...\n",
        "    pos_dist = F.pairwise_distance(anchors, positives)\n",
        "    neg_dist = F.pairwise_distance(anchors, negatives)\n",
        "    loss = torch.clamp(pos_dist - neg_dist + margin, min=0.0)\n",
        "    return loss.mean()"
      ]
    },
    {
      "cell_type": "markdown",
      "metadata": {
        "id": "PcGWJm9lymRl"
      },
      "source": [
        "#### Hard Triplet Loss"
      ]
    },
    {
      "cell_type": "code",
      "execution_count": 12,
      "metadata": {
        "id": "ZJHcLbe3ymRl"
      },
      "outputs": [],
      "source": [
        "def compute_pairwise_distances(embeddings):\n",
        "    dot_product = torch.matmul(embeddings, embeddings.t())\n",
        "    square_norm = torch.diag(dot_product)\n",
        "    distances = square_norm.unsqueeze(0) - 2.0 * dot_product + square_norm.unsqueeze(1)\n",
        "    distances = torch.clamp(distances, min=0.0)\n",
        "    return torch.sqrt(distances + 1e-16)"
      ]
    },
    {
      "cell_type": "code",
      "execution_count": 13,
      "metadata": {
        "id": "zRyL70I1ymRl"
      },
      "outputs": [],
      "source": [
        "def hard_triplet_loss(anchor, positive, negative, margin=1.0):\n",
        "    pos_distances = compute_pairwise_distances(anchor - positive)\n",
        "    neg_distances = compute_pairwise_distances(anchor - negative)\n",
        "\n",
        "    # Hard positives and negatives: closest positive and furthest negative...\n",
        "    hardest_positive_dist, _ = pos_distances.max(dim=1, keepdim=True)\n",
        "    hardest_negative_dist, _ = neg_distances.min(dim=1, keepdim=True)\n",
        "    triplet_loss = torch.clamp(hardest_positive_dist - hardest_negative_dist + margin, min=0.0)\n",
        "    return triplet_loss.mean()"
      ]
    },
    {
      "cell_type": "markdown",
      "metadata": {
        "id": "5sVefVnIymRl"
      },
      "source": [
        "### Pairs - 2 sentence columns and label"
      ]
    },
    {
      "cell_type": "markdown",
      "metadata": {
        "id": "RUUjBUuGymRl"
      },
      "source": [
        "#### Cosine Similarity Mean Squared Error Loss"
      ]
    },
    {
      "cell_type": "code",
      "execution_count": 14,
      "metadata": {
        "id": "YR_Z7F-8ymRl"
      },
      "outputs": [],
      "source": [
        "def cosine_similarity_mse_loss(embedding1, embedding2, labels):\n",
        "    # Calculating the cosine similarity between the pairs of embeddings...\n",
        "    cos_sim = F.cosine_similarity(embedding1, embedding2)\n",
        "\n",
        "    # MSE loss...\n",
        "    squared_difference = (labels - cos_sim) ** 2\n",
        "    loss = squared_difference.mean()\n",
        "\n",
        "    return loss"
      ]
    },
    {
      "cell_type": "markdown",
      "metadata": {
        "id": "Cw_yqGosymRl"
      },
      "source": [
        "#### CoSENT Loss"
      ]
    },
    {
      "cell_type": "code",
      "execution_count": 15,
      "metadata": {
        "id": "5l7mdXOVymRl"
      },
      "outputs": [],
      "source": [
        "def cosent_loss(embedding1, embedding2, labels, tau=20.0):\n",
        "    # Input preparation...\n",
        "    labels = (labels[:, None] < labels[None, :]).float()\n",
        "\n",
        "    # Normalization of Logits...\n",
        "    embedding1 = F.normalize(embedding1, p=2, dim=1)\n",
        "    embedding2 = F.normalize(embedding2, p=2, dim=1)\n",
        "\n",
        "    # Cosine Similarity Calculation...\n",
        "    # The dot product of these pairs gives the cosine similarity, scaled by a factor of tau to control the sharpness of similarity scores...\n",
        "    y_pred = torch.sum(embedding1 * embedding2, dim=1) * tau\n",
        "\n",
        "    # Pairwise cosine similarity difference calculation...\n",
        "    y_pred = y_pred[:, None] - y_pred[None, :]\n",
        "\n",
        "    y_pred = (y_pred - (1 - labels) * 1e12).view(-1)\n",
        "\n",
        "    zero = torch.Tensor([0]).to(y_pred.device)\n",
        "    y_pred = torch.concat((zero, y_pred), dim=0)\n",
        "    return torch.logsumexp(y_pred, dim=0)"
      ]
    },
    {
      "cell_type": "markdown",
      "metadata": {
        "id": "1IWsuAM7ymRl"
      },
      "source": [
        "#### In-Batch Negatives Loss"
      ]
    },
    {
      "cell_type": "code",
      "execution_count": 16,
      "metadata": {
        "id": "Zu_10ZcOymRm"
      },
      "outputs": [],
      "source": [
        "def categorical_crossentropy(y_true, y_pred):\n",
        "    return -(F.log_softmax(y_pred, dim=1) * y_true).sum(dim=1)\n",
        "\n",
        "def in_batch_negative_loss(embedding1, embedding2, labels, tau=20.0, negative_weights=0.0):\n",
        "    device = labels.device\n",
        "\n",
        "    y_pred = torch.empty((2 * embedding1.shape[0], embedding1.shape[1]), device=device)\n",
        "    y_pred[0::2] = embedding1\n",
        "    y_pred[1::2] = embedding2\n",
        "    y_true = labels.repeat_interleave(2).unsqueeze(1)\n",
        "\n",
        "    def make_target_matrix(y_true):\n",
        "        idxs = torch.arange(0, y_pred.shape[0]).int().to(device)\n",
        "        y_true = y_true.int()\n",
        "        idxs_1 = idxs[None, :]\n",
        "        idxs_2 = (idxs + 1 - idxs % 2 * 2)[:, None]\n",
        "\n",
        "        idxs_1 *= y_true.T\n",
        "        idxs_1 += (y_true.T == 0).int() * -2\n",
        "\n",
        "        idxs_2 *= y_true\n",
        "        idxs_2 += (y_true == 0).int() * -1\n",
        "\n",
        "        y_true = (idxs_1 == idxs_2).float()\n",
        "        return y_true\n",
        "\n",
        "    neg_mask = make_target_matrix(y_true == 0)\n",
        "\n",
        "    y_true = make_target_matrix(y_true)\n",
        "\n",
        "    y_pred = F.normalize(y_pred, dim=1, p=2)\n",
        "    similarities = y_pred @ y_pred.T\n",
        "    similarities = similarities - torch.eye(y_pred.shape[0]).to(device) * 1e12\n",
        "    similarities = similarities * tau\n",
        "\n",
        "    if negative_weights > 0:\n",
        "        similarities += neg_mask * negative_weights\n",
        "\n",
        "    return categorical_crossentropy(y_true, similarities).mean()"
      ]
    },
    {
      "cell_type": "markdown",
      "metadata": {
        "id": "jO8OuVLeymRm"
      },
      "source": [
        "#### Angle Loss"
      ]
    },
    {
      "cell_type": "code",
      "execution_count": 17,
      "metadata": {
        "id": "SAuTrCilymRm"
      },
      "outputs": [],
      "source": [
        "def angle_loss(embedding1, embedding2, labels, tau=1.0):\n",
        "    # Input preparation...\n",
        "    labels = (labels[:, None] < labels[None, :]).float()\n",
        "\n",
        "    # Chunking into real and imaginary parts...\n",
        "    y_pred_re1, y_pred_im1 = torch.chunk(embedding1, 2, dim=1)\n",
        "    y_pred_re2, y_pred_im2 = torch.chunk(embedding2, 2, dim=1)\n",
        "\n",
        "    a = y_pred_re1\n",
        "    b = y_pred_im1\n",
        "    c = y_pred_re2\n",
        "    d = y_pred_im2\n",
        "\n",
        "    z = torch.sum(c**2 + d**2, dim=1, keepdim=True)\n",
        "    re = (a * c + b * d) / z\n",
        "    im = (b * c - a * d) / z\n",
        "\n",
        "    dz = torch.sum(a**2 + b**2, dim=1, keepdim=True)**0.5\n",
        "    dw = torch.sum(c**2 + d**2, dim=1, keepdim=True)**0.5\n",
        "    re /= (dz / dw)\n",
        "    im /= (dz / dw)\n",
        "\n",
        "    y_pred = torch.concat((re, im), dim=1)\n",
        "    y_pred = torch.abs(torch.sum(y_pred, dim=1)) * tau\n",
        "    y_pred = y_pred[:, None] - y_pred[None, :]\n",
        "    y_pred = (y_pred - (1 - labels) * 1e12).view(-1)\n",
        "    zero = torch.Tensor([0]).to(y_pred.device)\n",
        "    y_pred = torch.concat((zero, y_pred), dim=0)\n",
        "    return torch.logsumexp(y_pred, dim=0)"
      ]
    },
    {
      "cell_type": "markdown",
      "metadata": {
        "id": "bDC9JmZmymRm"
      },
      "source": [
        "#### Combination of CoSENT, In-Batch Negatives and Angle Losses"
      ]
    },
    {
      "cell_type": "code",
      "execution_count": 18,
      "metadata": {
        "id": "gbBanXoiymRm"
      },
      "outputs": [],
      "source": [
        "def cosent_ibn_angle(embedding1, embedding2, labels, w_cosent=1, w_ibn=1, w_angle=1, tau_cosent=20.0, tau_ibn=20.0, tau_angle=1.0):\n",
        "    return w_cosent * cosent_loss(embedding1, embedding2, labels, tau_cosent) + w_ibn * in_batch_negative_loss(embedding1, embedding2, labels, tau_ibn) + w_angle * angle_loss(embedding1, embedding2, labels, tau_angle)"
      ]
    },
    {
      "cell_type": "markdown",
      "metadata": {
        "id": "t-Bk-iQfymRq"
      },
      "source": [
        "## Loss List"
      ]
    },
    {
      "cell_type": "code",
      "execution_count": 31,
      "metadata": {
        "id": "bA3BW2XkymRq"
      },
      "outputs": [],
      "source": [
        "losses = [\n",
        "    {'loss_name': 'cross_entropy_loss', 'loss_type': 'clf', 'loss_kwargs': {}},\n",
        "    {'loss_name': 'label_smoothing_cross_entropy_loss', 'loss_type': 'clf', 'loss_kwargs': {'smoothing': 0.1}},\n",
        "    {'loss_name': 'triplet_loss', 'loss_type': 'triplet', 'loss_kwargs': {'margin': 5}},\n",
        "    {'loss_name': 'hard_triplet_loss', 'loss_type': 'triplet', 'loss_kwargs': {'margin': 5}},\n",
        "    {'loss_name': 'cosine_similarity_mse_loss', 'loss_type': 'pair', 'loss_kwargs': {}},\n",
        "    {'loss_name': 'cosent_loss', 'loss_type': 'pair', 'loss_kwargs': {'tau': 20.0}},\n",
        "    {'loss_name': 'in_batch_negative_loss', 'loss_type': 'pair', 'loss_kwargs': {'tau': 20.0}},\n",
        "    {'loss_name': 'angle_loss', 'loss_type': 'pair', 'loss_kwargs': {'tau': 1.0}},\n",
        "    {'loss_name': 'cosent_ibn_angle', 'loss_type': 'pair', 'loss_kwargs': {'w_cosent': 1, 'w_ibn': 1, 'w_angle': 1, 'tau_cosent': 20.0, 'tau_ibn': 20.0, 'tau_angle': 1.0}}\n",
        "]"
      ]
    },
    {
      "cell_type": "markdown",
      "metadata": {
        "id": "nYT3qRCXymRq"
      },
      "source": [
        "# Training"
      ]
    },
    {
      "cell_type": "markdown",
      "metadata": {
        "id": "DkXkiJe2ymRq"
      },
      "source": [
        "### Training Preparation"
      ]
    },
    {
      "cell_type": "markdown",
      "metadata": {
        "id": "GSWpixKFymRq"
      },
      "source": [
        "#### Device Setting"
      ]
    },
    {
      "cell_type": "code",
      "execution_count": 20,
      "metadata": {
        "id": "m02CzZUJymRr"
      },
      "outputs": [],
      "source": [
        "device = torch.device('cuda') if torch.cuda.is_available() else torch.device('cpu')"
      ]
    },
    {
      "cell_type": "markdown",
      "metadata": {
        "id": "kCiIH_1EymRr"
      },
      "source": [
        "#### Model and Tokenizer Preparation"
      ]
    },
    {
      "cell_type": "code",
      "execution_count": 21,
      "metadata": {
        "id": "vi4V7dA-ymRr"
      },
      "outputs": [],
      "source": [
        "def get_model_tokenizer(model_id, type='clf', apply_lora=True, num_labels=2):\n",
        "    tokenizer = AutoTokenizer.from_pretrained(model_id)\n",
        "    tokenizer.pad_token = tokenizer.eos_token  # Set the EOS token as the padding token\n",
        "    tokenizer.pad_token_id = tokenizer.eos_token_id\n",
        "\n",
        "    if type == 'clf':\n",
        "        model = AutoModelForSequenceClassification.from_pretrained(model_id, device_map='auto', num_labels=num_labels)\n",
        "    else:\n",
        "        model = AutoModelForCausalLM.from_pretrained(model_id)\n",
        "    model.config.pad_token_id = tokenizer.pad_token_id\n",
        "    model.config.use_cache = False\n",
        "    model.config.pretraining_tp = 1\n",
        "    model.to(device)\n",
        "\n",
        "    lora_config = LoraConfig(\n",
        "        task_type=TaskType.SEQ_CLS if type == 'clf' else TaskType.FEATURE_EXTRACTION,\n",
        "        r=88,\n",
        "        lora_alpha=16,\n",
        "        lora_dropout=0.1\n",
        "    )\n",
        "\n",
        "    if apply_lora:\n",
        "        model = get_peft_model(model, lora_config)\n",
        "\n",
        "        for name, param in model.named_parameters():\n",
        "            if \"lora\" not in name:\n",
        "                param.requires_grad = False  # Freeze non-LoRA layers\n",
        "            else:\n",
        "                param.requires_grad = True\n",
        "        print(f\"Trainable parameters: {sum(p.numel() for p in model.parameters() if p.requires_grad)}\")\n",
        "\n",
        "    return model, tokenizer"
      ]
    },
    {
      "cell_type": "markdown",
      "metadata": {
        "id": "q7mNZyjGymRr"
      },
      "source": [
        "#### Embedding Extraction"
      ]
    },
    {
      "cell_type": "code",
      "execution_count": 22,
      "metadata": {
        "id": "6x-ORaWCymRr"
      },
      "outputs": [],
      "source": [
        "def extract_embeddings(model, tokenizer, device, sentences, to_numpy=False):\n",
        "    encodings = tokenizer(sentences, return_tensors='pt', padding=True, truncation=True).to(device)\n",
        "    embeddings = model(output_hidden_states=True, return_dict=True, **encodings).hidden_states[-1].mean(dim=1)\n",
        "\n",
        "    if to_numpy:\n",
        "        embeddings = embeddings.cpu().detach().numpy()\n",
        "    return embeddings"
      ]
    },
    {
      "cell_type": "markdown",
      "metadata": {
        "id": "_5FOSwVPymRr"
      },
      "source": [
        "#### Train Driver"
      ]
    },
    {
      "cell_type": "code",
      "execution_count": 23,
      "metadata": {
        "id": "NI2u004CymRr"
      },
      "outputs": [],
      "source": [
        "def train(model, tokenizer, dataset, batch_size, loss_type='clf', epochs=10, loss_name='cross_entropy_loss', **loss_kwargs):\n",
        "    # Optimizer setting...\n",
        "    optimizer = AdamW(model.parameters(), lr=5e-5)\n",
        "\n",
        "    # Training loop...\n",
        "    num_epochs = epochs\n",
        "    model.train()\n",
        "    for epoch in range(num_epochs):\n",
        "        if loss_type == 'clf':\n",
        "            data_loader = DataLoader(NLIPairDataset(dataset['premise'], dataset['hypothesis'], dataset['labels']), batch_size=batch_size, shuffle=True)\n",
        "\n",
        "            for premise_texts, hypothesis_texts, labels in tqdm(data_loader, desc=\"Training\", leave=False):\n",
        "                inputs = tokenizer(premise_texts, hypothesis_texts, padding=True, truncation=True, return_tensors=\"pt\").to(device)\n",
        "                labels = labels.to(device)\n",
        "\n",
        "                # Forward pass...\n",
        "                outputs = model(**inputs)\n",
        "                logits = outputs.logits\n",
        "                loss = globals()[loss_name](logits, labels, **loss_kwargs)\n",
        "\n",
        "                # Backpropagation...\n",
        "                loss.backward()\n",
        "\n",
        "                # Updating weights...\n",
        "                optimizer.step()\n",
        "                optimizer.zero_grad()\n",
        "        elif loss_type == 'pair':\n",
        "            data_loader = DataLoader(NLIPairDataset(dataset['premise'], dataset['hypothesis'], dataset['labels']), batch_size=batch_size, shuffle=True)\n",
        "\n",
        "            for premise_texts, hypothesis_texts, labels in tqdm(data_loader, desc=\"Training\", leave=False):\n",
        "                labels = labels.to(device)\n",
        "\n",
        "                # [CLS] token embedding...\n",
        "                premise_embeddings = extract_embeddings(model, tokenizer, device, premise_texts)\n",
        "                hypothesis_embeddings = extract_embeddings(model, tokenizer, device, hypothesis_texts)\n",
        "\n",
        "                # Embedding Loss...\n",
        "                loss = globals()[loss_name](premise_embeddings, hypothesis_embeddings, labels, **loss_kwargs)\n",
        "                if loss == 0.0:\n",
        "                    continue\n",
        "\n",
        "                # Backpropagation...\n",
        "                loss.backward()\n",
        "\n",
        "                # Updating weights...\n",
        "                optimizer.step()\n",
        "                optimizer.zero_grad()\n",
        "        elif loss_type == 'triplet':\n",
        "            data_loader = DataLoader(NLITripletDataset(dataset['anchor'], dataset['positive'], dataset['negative']), batch_size=batch_size, shuffle=True)\n",
        "\n",
        "            for anchor_texts, positive_texts, negative_texts in tqdm(data_loader, desc=\"Training\", leave=False):\n",
        "                # [CLS] token embedding...\n",
        "                anchor_embeddings = extract_embeddings(model, tokenizer, device, anchor_texts)\n",
        "                positive_embeddings = extract_embeddings(model, tokenizer, device, positive_texts)\n",
        "                negative_embeddings = extract_embeddings(model, tokenizer, device, negative_texts)\n",
        "\n",
        "                # Embedding Loss...\n",
        "                loss = globals()[loss_name](anchor_embeddings, positive_embeddings, negative_embeddings, **loss_kwargs)\n",
        "                if loss == 0.0:\n",
        "                    continue\n",
        "\n",
        "                # Backpropagation...\n",
        "                loss.backward()\n",
        "\n",
        "                # Updating weights...\n",
        "                optimizer.step()\n",
        "                optimizer.zero_grad()\n",
        "    return model"
      ]
    },
    {
      "cell_type": "markdown",
      "metadata": {
        "id": "M1Tf1qXUymRs"
      },
      "source": [
        "#### Evaluation Drivers"
      ]
    },
    {
      "cell_type": "code",
      "execution_count": 24,
      "metadata": {
        "id": "9BTxG8EwymRs"
      },
      "outputs": [],
      "source": [
        "def calculate_cosine_similarity(embeddings_1, embeddings_2):\n",
        "    cosine_similarity = F.cosine_similarity(embeddings_1, embeddings_2, dim=1)\n",
        "    return cosine_similarity"
      ]
    },
    {
      "cell_type": "code",
      "execution_count": 25,
      "metadata": {
        "id": "LRQMZ8JTymRs"
      },
      "outputs": [],
      "source": [
        "def calculate_Spearman_rank_correlation_coefficient(scores, scores_actual):\n",
        "    sc, _ = spearmanr(scores, scores_actual)\n",
        "    return sc"
      ]
    },
    {
      "cell_type": "code",
      "execution_count": 26,
      "metadata": {
        "id": "2fYEUELzymRs"
      },
      "outputs": [],
      "source": [
        "class STSDataset(torch.utils.data.Dataset):\n",
        "    def __init__(self, sentence1, sentence2, label):\n",
        "        self.sentence1 = sentence1\n",
        "        self.sentence2 = sentence2\n",
        "        self.label = label\n",
        "\n",
        "    def __len__(self):\n",
        "        return len(self.label)\n",
        "\n",
        "    def __getitem__(self, idx):\n",
        "        return self.sentence1[idx], self.sentence2[idx], self.label[idx]\n",
        "\n",
        "def evaluate_sts(model, tokenizer, loss, batch_size):\n",
        "    model.eval()\n",
        "    spearman_list = []\n",
        "\n",
        "    for dataset_name in sts_datasets:\n",
        "        dataset = get_sts_dataset(dataset_name)\n",
        "        dataset = STSDataset(dataset['sentence1'], dataset['sentence2'], dataset['labels'])\n",
        "        data_loader = DataLoader(dataset, batch_size=batch_size)\n",
        "        all_embeddings1 = []\n",
        "        all_embeddings2 = []\n",
        "        all_labels = []\n",
        "\n",
        "        with torch.no_grad():\n",
        "            for sentences1, sentences2, labels in tqdm(data_loader, desc=\"Extracting embeddings\", leave=False):\n",
        "                embeddings1 = extract_embeddings(model, tokenizer, device, sentences1)\n",
        "                embeddings2 = extract_embeddings(model, tokenizer, device, sentences2)\n",
        "                all_embeddings1.append(embeddings1.cpu())\n",
        "                all_embeddings2.append(embeddings2.cpu())\n",
        "                all_labels.append(labels.cpu())\n",
        "\n",
        "        data_embeddings1 = torch.cat(all_embeddings1)\n",
        "        data_embeddings2 = torch.cat(all_embeddings2)\n",
        "        data_labels = torch.cat(all_labels)\n",
        "        data_labels_np = data_labels.numpy()\n",
        "\n",
        "        cosine_similarities = calculate_cosine_similarity(data_embeddings1, data_embeddings2)\n",
        "        spearman = calculate_Spearman_rank_correlation_coefficient(cosine_similarities, data_labels_np)\n",
        "        spearman_list.append({'loss': loss, 'dataset': dataset_name, 'spearman': spearman})\n",
        "    return spearman_list"
      ]
    },
    {
      "cell_type": "code",
      "execution_count": 27,
      "metadata": {
        "id": "C3CHavZRymRs"
      },
      "outputs": [],
      "source": [
        "class SentEvalDataset(torch.utils.data.Dataset):\n",
        "    def __init__(self, sentence, label):\n",
        "        self.sentence = sentence\n",
        "        self.label = label\n",
        "\n",
        "    def __len__(self):\n",
        "        return len(self.label)\n",
        "\n",
        "    def __getitem__(self, idx):\n",
        "        return self.sentence[idx], self.label[idx]\n",
        "\n",
        "def evaluate_senteval(model, tokenizer, loss, batch_size):\n",
        "    model.eval()\n",
        "    accuracy_list = []\n",
        "\n",
        "    for dataset_name in senteval_datasets:\n",
        "        dataset = get_senteval_dataset(dataset_name)\n",
        "        dataset = SentEvalDataset(dataset['sentence'], dataset['labels'])\n",
        "        data_loader = DataLoader(dataset, batch_size=batch_size)\n",
        "        all_embeddings = []\n",
        "        all_labels = []\n",
        "\n",
        "        with torch.no_grad():\n",
        "            for sentences, labels in tqdm(data_loader, desc=\"Extracting embeddings\", leave=False):\n",
        "                embeddings = extract_embeddings(model, tokenizer, device, sentences)\n",
        "                all_embeddings.append(embeddings.cpu())\n",
        "                all_labels.append(labels.cpu())\n",
        "\n",
        "        data_embeddings = torch.cat(all_embeddings)\n",
        "        data_labels = torch.cat(all_labels)\n",
        "\n",
        "        data_embeddings_np = data_embeddings.numpy()\n",
        "        data_labels_np = data_labels.numpy()\n",
        "\n",
        "        train_embeddings, test_embeddings, train_labels, test_labels = train_test_split(data_embeddings_np, data_labels_np, test_size=0.3)\n",
        "\n",
        "        # Training a Logistic Regression classifier on the training embeddings...\n",
        "        lr_clf = LogisticRegression(max_iter=10000)\n",
        "        lr_clf.fit(train_embeddings, train_labels)\n",
        "\n",
        "        # Predicting the labels for the test set...\n",
        "        test_predictions = lr_clf.predict(test_embeddings)\n",
        "        accuracy = accuracy_score(test_labels, test_predictions)\n",
        "        accuracy_list.append({'loss': loss, 'dataset': dataset_name, 'accuracy': accuracy})\n",
        "    return accuracy_list"
      ]
    },
    {
      "cell_type": "markdown",
      "metadata": {
        "id": "MVnKWHXqymRt"
      },
      "source": [
        "### Loop"
      ]
    },
    {
      "cell_type": "code",
      "execution_count": 36,
      "metadata": {
        "id": "JOTPvtAYymRt"
      },
      "outputs": [],
      "source": [
        "total_runs = 3\n",
        "batch_size = 10\n",
        "ds_length = None\n",
        "senteval_results_list = []\n",
        "sts_results_list = []\n",
        "for loss in losses:\n",
        "    loss_name = loss['loss_name']\n",
        "    loss_type = loss['loss_type']\n",
        "    loss_kwargs = loss['loss_kwargs']\n",
        "\n",
        "    for loop_count in range(0, total_runs):\n",
        "        # Dataset Preparation...\n",
        "        dataset = get_nli_dataset(n=ds_length, type=loss_type)\n",
        "\n",
        "        # Model Preparation...\n",
        "        model, tokenizer = get_model_tokenizer(model_id, loss_type)\n",
        "\n",
        "        # Training Loop...\n",
        "        model = train(model, tokenizer, dataset, batch_size, loss_type, epochs=10, loss_name=loss_name, **loss_kwargs)\n",
        "\n",
        "        # Evaluation loop...\n",
        "        sts_results = evaluate_sts(model, tokenizer, loss_name, batch_size)\n",
        "        senteval_results = evaluate_senteval(model, tokenizer, loss_name, batch_size)\n",
        "    senteval_results_list.append(senteval_results)\n",
        "    sts_results_list.append(sts_results)"
      ]
    }
  ],
  "metadata": {
    "accelerator": "GPU",
    "colab": {
      "collapsed_sections": [
        "pQtYvBfAymRg",
        "_4tXqhaEymRh",
        "qsHBmkseymRi",
        "klGahmSRymRj",
        "d5crLs37ymRj",
        "TwwQLxODymRj",
        "Gaox62_6ymRk",
        "t-Bk-iQfymRq",
        "nYT3qRCXymRq",
        "DkXkiJe2ymRq",
        "GSWpixKFymRq",
        "kCiIH_1EymRr",
        "q7mNZyjGymRr",
        "_5FOSwVPymRr",
        "M1Tf1qXUymRs",
        "MVnKWHXqymRt",
        "eR9nYRQnymRt"
      ],
      "gpuType": "T4",
      "provenance": []
    },
    "kernelspec": {
      "display_name": "Python 3",
      "name": "python3"
    },
    "language_info": {
      "codemirror_mode": {
        "name": "ipython",
        "version": 3
      },
      "file_extension": ".py",
      "mimetype": "text/x-python",
      "name": "python",
      "nbconvert_exporter": "python",
      "pygments_lexer": "ipython3",
      "version": "3.10.12"
    }
  },
  "nbformat": 4,
  "nbformat_minor": 0
}
